{
 "metadata": {
  "language_info": {
   "codemirror_mode": {
    "name": "ipython",
    "version": 3
   },
   "file_extension": ".py",
   "mimetype": "text/x-python",
   "name": "python",
   "nbconvert_exporter": "python",
   "pygments_lexer": "ipython3",
   "version": "3.9.4"
  },
  "orig_nbformat": 2,
  "kernelspec": {
   "name": "python394jvsc74a57bd0b839018028d7c5166b93bdc4222a30f5462b9cb20ffe1b3af6c70f0ea8ead087",
   "display_name": "Python 3.9.4 64-bit"
  }
 },
 "nbformat": 4,
 "nbformat_minor": 2,
 "cells": [
  {
   "source": [
    "# Data Quality with Python for Beginner"
   ],
   "cell_type": "markdown",
   "metadata": {}
  },
  {
   "cell_type": "code",
   "execution_count": null,
   "metadata": {},
   "outputs": [],
   "source": [
    "## Data Profiling"
   ]
  },
  {
   "source": [
    "### Importing Data"
   ],
   "cell_type": "markdown",
   "metadata": {}
  },
  {
   "cell_type": "code",
   "execution_count": 1,
   "metadata": {},
   "outputs": [],
   "source": [
    "import pandas as pd\n",
    "import numpy as np\n",
    "import io \n",
    "retail_raw = pd.read_csv('retail_raw_reduced_data_quality.csv')"
   ]
  },
  {
   "source": [
    "### Inspeksi Tipe Data"
   ],
   "cell_type": "markdown",
   "metadata": {}
  },
  {
   "cell_type": "code",
   "execution_count": 2,
   "metadata": {},
   "outputs": [
    {
     "output_type": "stream",
     "name": "stdout",
     "text": [
      "order_id         int64\norder_date      object\ncustomer_id      int64\ncity            object\nprovince        object\nproduct_id      object\nbrand           object\nquantity       float64\nitem_price     float64\ndtype: object\n"
     ]
    }
   ],
   "source": [
    "# Cetak tipe data di setiap kolom retail_raw\n",
    "print(retail_raw.dtypes)"
   ]
  },
  {
   "source": [
    "### Descriptive Statistics - Part 1"
   ],
   "cell_type": "markdown",
   "metadata": {}
  },
  {
   "cell_type": "code",
   "execution_count": 3,
   "metadata": {},
   "outputs": [
    {
     "output_type": "stream",
     "name": "stdout",
     "text": [
      "Length kolom city: 5000\nLength kolom product_id: 5000\n"
     ]
    }
   ],
   "source": [
    "# Kolom city\n",
    "length_city = len(retail_raw['city'])\n",
    "print('Length kolom city:', length_city)\n",
    "\n",
    "# Tugas Praktek: Kolom product_id\n",
    "length_product_id = len(retail_raw['product_id'])\n",
    "print('Length kolom product_id:', length_product_id)"
   ]
  },
  {
   "source": [
    "### Descriptive Statistics - Part 2"
   ],
   "cell_type": "markdown",
   "metadata": {}
  },
  {
   "cell_type": "code",
   "execution_count": 4,
   "metadata": {},
   "outputs": [
    {
     "output_type": "stream",
     "name": "stdout",
     "text": [
      "Count kolom count_city: 4984\nCount kolom product_id: 4989\n"
     ]
    }
   ],
   "source": [
    "# Count kolom city\n",
    "count_city = retail_raw['city'].count()\n",
    "print('Count kolom count_city:', count_city)\n",
    "\n",
    "# Tugas praktek: count kolom product_id\n",
    "count_product_id = retail_raw['product_id'].count()\n",
    "print('Count kolom product_id:', count_product_id)"
   ]
  },
  {
   "source": [
    "### Descriptive Statistics - Part 3"
   ],
   "cell_type": "markdown",
   "metadata": {}
  },
  {
   "cell_type": "code",
   "execution_count": 5,
   "metadata": {},
   "outputs": [
    {
     "output_type": "stream",
     "name": "stdout",
     "text": [
      "Persentase missing value kolom city: 0.3%\nPersentase missing value kolom product_id: 0.2%\n"
     ]
    }
   ],
   "source": [
    "# Missing value pada kolom city\n",
    "number_of_missing_values_city = length_city - count_city\n",
    "float_of_missing_values_city = float(number_of_missing_values_city/length_city)\n",
    "pct_of_missing_values_city = '{0:.1f}%'.format(float_of_missing_values_city * 100)\n",
    "print('Persentase missing value kolom city:', pct_of_missing_values_city)\n",
    "\n",
    "# Tugas praktek: Missing value pada kolom product_id\n",
    "number_of_missing_values_product_id = length_product_id - count_product_id\n",
    "float_of_missing_values_product_id = float(number_of_missing_values_product_id/length_product_id)\n",
    "pct_of_missing_values_product_id = '{0:.1f}%'.format(float_of_missing_values_product_id * 100)\n",
    "print('Persentase missing value kolom product_id:', pct_of_missing_values_product_id)"
   ]
  },
  {
   "source": [
    "### Descriptive Statistics - Part 4"
   ],
   "cell_type": "markdown",
   "metadata": {}
  },
  {
   "cell_type": "code",
   "execution_count": 6,
   "metadata": {},
   "outputs": [
    {
     "output_type": "stream",
     "name": "stdout",
     "text": [
      "Kolom quantity\nMinimum value:  1.0\nMaximum value:  720.0\nMean value:  11.423987164059366\nMode value:  0    1.0\ndtype: float64\nMedian value:  5.0\nStandard Deviation value:  29.44202501081146\n\nKolom item_price\nMinimum value:  26000.0\nMaximum value:  29762000.0\nMean value:  933742.7311008623\nMedian value:  604000.0\nStandard Deviation value:  1030829.8104242847\n"
     ]
    }
   ],
   "source": [
    "# Deskriptif statistics kolom quantity\n",
    "print('Kolom quantity')\n",
    "print('Minimum value: ', retail_raw['quantity'].min())\n",
    "print('Maximum value: ', retail_raw['quantity'].max())\n",
    "print('Mean value: ', retail_raw['quantity'].mean())\n",
    "print('Mode value: ', retail_raw['quantity'].mode())\n",
    "print('Median value: ', retail_raw['quantity'].median())\n",
    "print('Standard Deviation value: ', retail_raw['quantity'].std())\n",
    "\n",
    "# Tugas praktek: Deskriptif statistics kolom item_price\n",
    "print('')\n",
    "print('Kolom item_price')\n",
    "print('Minimum value: ', retail_raw['item_price'].min())\n",
    "print('Maximum value: ', retail_raw['item_price'].max())\n",
    "print('Mean value: ', retail_raw['item_price'].mean())\n",
    "print('Median value: ', retail_raw['item_price'].median())\n",
    "print('Standard Deviation value: ', retail_raw['item_price'].std())"
   ]
  },
  {
   "source": [
    "### Descriptive Statistics - Part 5"
   ],
   "cell_type": "markdown",
   "metadata": {}
  },
  {
   "cell_type": "code",
   "execution_count": 7,
   "metadata": {},
   "outputs": [
    {
     "output_type": "stream",
     "name": "stdout",
     "text": [
      "Kolom quantity:\n0.25     2.0\n0.50     5.0\n0.75    12.0\nName: quantity, dtype: float64\n\nKolom item_price:\n0.25     450000.0\n0.50     604000.0\n0.75    1045000.0\nName: item_price, dtype: float64\n"
     ]
    }
   ],
   "source": [
    "# Quantile statistics kolom quantity\n",
    "print('Kolom quantity:')\n",
    "print(retail_raw['quantity'].quantile([0.25, 0.5, 0.75]))\n",
    "\n",
    "# Tugas praktek: Quantile statistics kolom item_price\n",
    "print('')\n",
    "print('Kolom item_price:')\n",
    "print(retail_raw['item_price'].quantile([0.25, 0.5, 0.75]))"
   ]
  },
  {
   "source": [
    "### Descriptive Statistics - Part 6"
   ],
   "cell_type": "markdown",
   "metadata": {}
  },
  {
   "cell_type": "code",
   "execution_count": 8,
   "metadata": {},
   "outputs": [
    {
     "output_type": "stream",
     "name": "stdout",
     "text": [
      "Korelasi quantity dengan item_price\n            quantity  item_price\nquantity    1.000000   -0.133936\nitem_price -0.133936    1.000000\n"
     ]
    }
   ],
   "source": [
    "print('Korelasi quantity dengan item_price')\n",
    "print(retail_raw[['quantity', 'item_price']].corr())"
   ]
  },
  {
   "source": [
    "## Data Cleansing"
   ],
   "cell_type": "markdown",
   "metadata": {}
  },
  {
   "source": [
    "### Missing Data"
   ],
   "cell_type": "markdown",
   "metadata": {}
  },
  {
   "cell_type": "code",
   "execution_count": 9,
   "metadata": {},
   "outputs": [
    {
     "output_type": "stream",
     "name": "stdout",
     "text": [
      "Check kolom yang memiliki missing data:\norder_id       False\norder_date     False\ncustomer_id    False\ncity            True\nprovince        True\nproduct_id      True\nbrand          False\nquantity        True\nitem_price      True\ndtype: bool\n\nFilling the missing value (imputasi):\n0       10.0\n1        2.0\n2        8.0\n3        4.0\n4        2.0\n        ... \n4995     2.0\n4996     3.0\n4997     4.0\n4998     8.0\n4999     1.0\nName: quantity, Length: 5000, dtype: float64\n\nDrop missing value:\n0       10.0\n1        2.0\n2        8.0\n3        4.0\n4        2.0\n        ... \n4995     2.0\n4996     3.0\n4997     4.0\n4998     8.0\n4999     1.0\nName: quantity, Length: 4986, dtype: float64\n"
     ]
    }
   ],
   "source": [
    "# Check kolom yang memiliki missing data\n",
    "print('Check kolom yang memiliki missing data:')\n",
    "print(retail_raw.isnull().any())\n",
    "\n",
    "# Filling the missing value (imputasi)\n",
    "print('\\nFilling the missing value (imputasi):')\n",
    "print(retail_raw['quantity'].fillna(retail_raw['quantity'].mean()))\n",
    "\n",
    "# Drop missing value\n",
    "print('\\nDrop missing value:')\n",
    "print(retail_raw['quantity'].dropna())"
   ]
  },
  {
   "source": [
    "### Tugas Praktek"
   ],
   "cell_type": "markdown",
   "metadata": {}
  },
  {
   "cell_type": "code",
   "execution_count": 10,
   "metadata": {},
   "outputs": [
    {
     "output_type": "stream",
     "name": "stdout",
     "text": [
      "0       7.400000e+05\n1       6.040000e+05\n2       1.045000e+06\n3       2.050000e+05\n4       9.337427e+05\n            ...     \n4995    4.500000e+05\n4996    1.465000e+06\n4997    7.470000e+05\n4998    6.950000e+05\n4999    1.045000e+06\nName: item_price, Length: 5000, dtype: float64\n"
     ]
    }
   ],
   "source": [
    "print(retail_raw['item_price'].fillna(retail_raw['item_price'].mean()))"
   ]
  },
  {
   "source": [
    "### Outliers"
   ],
   "cell_type": "markdown",
   "metadata": {}
  },
  {
   "cell_type": "code",
   "execution_count": 11,
   "metadata": {},
   "outputs": [
    {
     "output_type": "stream",
     "name": "stdout",
     "text": [
      "Shape awal:  (5000, 9)\nShape akhir:  (4699, 9)\n"
     ]
    }
   ],
   "source": [
    "# Q1, Q3, dan IQR\n",
    "Q1 = retail_raw['quantity'].quantile(0.25)\n",
    "Q3 = retail_raw['quantity'].quantile(0.75)\n",
    "IQR = Q3 - Q1\n",
    "\n",
    "# Check ukuran (baris dan kolom) sebelum data yang outliers dibuang\n",
    "print('Shape awal: ', retail_raw.shape)\n",
    "\n",
    "# Removing outliers\n",
    "retail_raw = retail_raw[~((retail_raw['quantity'] < (Q1 - 1.5 * IQR)) | (retail_raw['quantity'] > (Q3 + 1.5 * IQR)))]\n",
    "\n",
    "# Check ukuran (baris dan kolom) setelah data yang outliers dibuang\n",
    "print('Shape akhir: ', retail_raw.shape)"
   ]
  },
  {
   "source": [
    "### Tugas Praktek"
   ],
   "cell_type": "markdown",
   "metadata": {}
  },
  {
   "cell_type": "code",
   "execution_count": 12,
   "metadata": {},
   "outputs": [
    {
     "output_type": "stream",
     "name": "stdout",
     "text": [
      "Shape awal:  (4699, 9)\nShape akhir:  (4379, 9)\n"
     ]
    }
   ],
   "source": [
    "# Q1, Q3, dan IQR\n",
    "Q1 = retail_raw['item_price'].quantile(0.25)\n",
    "Q3 = retail_raw['item_price'].quantile(0.75)\n",
    "IQR = Q3 - Q1\n",
    "\n",
    "# Check ukuran (baris dan kolom) sebelum data yang outliers dibuang\n",
    "print('Shape awal: ', retail_raw.shape)\n",
    "\n",
    "# Removing outliers\n",
    "retail_raw = retail_raw[~((retail_raw['item_price'] < (Q1 - 1.5 * IQR)) | (retail_raw['item_price'] > (Q3 + 1.5 * IQR)))]\n",
    "\n",
    "# Check ukuran (baris dan kolom) setelah data yang outliers dibuang\n",
    "print('Shape akhir: ', retail_raw.shape)"
   ]
  },
  {
   "source": [
    "### Tugas Praktek"
   ],
   "cell_type": "markdown",
   "metadata": {}
  },
  {
   "cell_type": "code",
   "execution_count": 13,
   "metadata": {},
   "outputs": [
    {
     "output_type": "stream",
     "name": "stdout",
     "text": [
      "Shape awal:  (4379, 9)\nShape akhir:  (4373, 9)\n"
     ]
    }
   ],
   "source": [
    "# Check ukuran (baris dan kolom) sebelum data duplikasi dibuang\n",
    "print('Shape awal: ', retail_raw.shape)\n",
    "\n",
    "# Buang data yang terduplikasi\n",
    "retail_raw.drop_duplicates(inplace=True)\n",
    "\n",
    "# Check ukuran (baris dan kolom) setelah data duplikasi dibuang\n",
    "print('Shape akhir: ', retail_raw.shape)"
   ]
  },
  {
   "source": [
    "## Mini Project"
   ],
   "cell_type": "markdown",
   "metadata": {}
  },
  {
   "cell_type": "code",
   "execution_count": null,
   "metadata": {},
   "outputs": [],
   "source": []
  },
  {
   "source": [
    "### Case Studi: Data Profiling"
   ],
   "cell_type": "markdown",
   "metadata": {}
  },
  {
   "cell_type": "code",
   "execution_count": 14,
   "metadata": {},
   "outputs": [
    {
     "output_type": "stream",
     "name": "stdout",
     "text": [
      "Lima data teratas:\n   InvoiceNo                          Description  Quantity     InvoiceDate  \\\n0     536365   WHITE HANGING HEART T-LIGHT HOLDER       6.0  12/01/10 08.26   \n1     536366                  WHITE METAL LANTERN       6.0  12/01/10 08.26   \n2     536367       CREAM CUPID HEARTS COAT HANGER       8.0  12/01/10 08.26   \n3     536368  KNITTED UNION FLAG HOT WATER BOTTLE       6.0  12/01/10 08.26   \n4     536369       RED WOOLLY HOTTIE WHITE HEART.       6.0  12/01/10 08.26   \n\n   UnitPrice  CustomerID      City  \n0      29000       17850  Surabaya  \n1      41000       17850  Surabaya  \n2      18000       17850  Surabaya  \n3      38000       17850   Jakarta  \n4      27000       17850     Medan  \n\nKolom dengan missing value:\nInvoiceNo      False\nDescription    False\nQuantity        True\nInvoiceDate    False\nUnitPrice      False\nCustomerID     False\nCity           False\ndtype: bool\nPersentase missing value kolom Quantity: 4.0%\n"
     ]
    }
   ],
   "source": [
    "# Baca dataset uncleaned_raw.csv\n",
    "uncleaned_raw = pd.read_csv('https://dqlab-dataset.s3-ap-southeast-1.amazonaws.com/uncleaned_raw.csv')\n",
    "\n",
    "#inspeksi dataframe uncleaned_raw\n",
    "print('Lima data teratas:')\n",
    "print(uncleaned_raw.head())\n",
    "\n",
    "#Check kolom yang mengandung missing value\n",
    "print('\\nKolom dengan missing value:')\n",
    "print(uncleaned_raw.isnull().any())\n",
    "\n",
    "#Persentase missing value\n",
    "length_qty = len(uncleaned_raw['Quantity'])\n",
    "count_qty = uncleaned_raw['Quantity'].count()\n",
    "\n",
    "#mengurangi length dengan count\n",
    "number_of_missing_values_qty = length_qty - count_qty\n",
    "\n",
    "#mengubah ke bentuk float\n",
    "float_of_missing_values_qty = float(number_of_missing_values_qty / length_qty)\n",
    "\n",
    "#mengubah ke dalam bentuk persen\n",
    "pct_of_missing_values_qty = '{0:.1f}%'.format(float_of_missing_values_qty*100)\n",
    "\n",
    "#print hasil percent dari missing value\n",
    "print('Persentase missing value kolom Quantity:', pct_of_missing_values_qty)\n",
    "\n",
    "#Mengisi missing value tersebut dengan mean dari kolom tersebut\n",
    "uncleaned_raw['Quantity'] = uncleaned_raw['Quantity'].fillna(uncleaned_raw['Quantity'].mean())"
   ]
  },
  {
   "source": [
    "### Case Study: Data Cleansing - Part 1"
   ],
   "cell_type": "markdown",
   "metadata": {}
  },
  {
   "cell_type": "code",
   "execution_count": 15,
   "metadata": {},
   "outputs": [
    {
     "output_type": "display_data",
     "data": {
      "text/plain": "<Figure size 432x288 with 1 Axes>",
      "image/svg+xml": "<?xml version=\"1.0\" encoding=\"utf-8\" standalone=\"no\"?>\r\n<!DOCTYPE svg PUBLIC \"-//W3C//DTD SVG 1.1//EN\"\r\n  \"http://www.w3.org/Graphics/SVG/1.1/DTD/svg11.dtd\">\r\n<svg height=\"259.116562pt\" version=\"1.1\" viewBox=\"0 0 362.5625 259.116562\" width=\"362.5625pt\" xmlns=\"http://www.w3.org/2000/svg\" xmlns:xlink=\"http://www.w3.org/1999/xlink\">\r\n <metadata>\r\n  <rdf:RDF xmlns:cc=\"http://creativecommons.org/ns#\" xmlns:dc=\"http://purl.org/dc/elements/1.1/\" xmlns:rdf=\"http://www.w3.org/1999/02/22-rdf-syntax-ns#\">\r\n   <cc:Work>\r\n    <dc:type rdf:resource=\"http://purl.org/dc/dcmitype/StillImage\"/>\r\n    <dc:date>2021-06-07T22:26:17.329876</dc:date>\r\n    <dc:format>image/svg+xml</dc:format>\r\n    <dc:creator>\r\n     <cc:Agent>\r\n      <dc:title>Matplotlib v3.4.1, https://matplotlib.org/</dc:title>\r\n     </cc:Agent>\r\n    </dc:creator>\r\n   </cc:Work>\r\n  </rdf:RDF>\r\n </metadata>\r\n <defs>\r\n  <style type=\"text/css\">*{stroke-linecap:butt;stroke-linejoin:round;}</style>\r\n </defs>\r\n <g id=\"figure_1\">\r\n  <g id=\"patch_1\">\r\n   <path d=\"M 0 259.116562 \r\nL 362.5625 259.116562 \r\nL 362.5625 0 \r\nL 0 0 \r\nz\r\n\" style=\"fill:none;\"/>\r\n  </g>\r\n  <g id=\"axes_1\">\r\n   <g id=\"patch_2\">\r\n    <path d=\"M 20.5625 235.238437 \r\nL 355.3625 235.238437 \r\nL 355.3625 17.798437 \r\nL 20.5625 17.798437 \r\nz\r\n\" style=\"fill:#ffffff;\"/>\r\n   </g>\r\n   <g id=\"matplotlib.axis_1\">\r\n    <g id=\"xtick_1\">\r\n     <g id=\"line2d_1\">\r\n      <path clip-path=\"url(#p6db973e674)\" d=\"M 62.4125 235.238437 \r\nL 62.4125 17.798437 \r\n\" style=\"fill:none;stroke:#b0b0b0;stroke-linecap:square;stroke-width:0.8;\"/>\r\n     </g>\r\n     <g id=\"line2d_2\">\r\n      <defs>\r\n       <path d=\"M 0 0 \r\nL 0 3.5 \r\n\" id=\"me58e669d54\" style=\"stroke:#000000;stroke-width:0.8;\"/>\r\n      </defs>\r\n      <g>\r\n       <use style=\"stroke:#000000;stroke-width:0.8;\" x=\"62.4125\" xlink:href=\"#me58e669d54\" y=\"235.238437\"/>\r\n      </g>\r\n     </g>\r\n     <g id=\"text_1\">\r\n      <!-- InvoiceNo -->\r\n      <g transform=\"translate(37.735156 249.836875)scale(0.1 -0.1)\">\r\n       <defs>\r\n        <path d=\"M 628 4666 \r\nL 1259 4666 \r\nL 1259 0 \r\nL 628 0 \r\nL 628 4666 \r\nz\r\n\" id=\"DejaVuSans-49\" transform=\"scale(0.015625)\"/>\r\n        <path d=\"M 3513 2113 \r\nL 3513 0 \r\nL 2938 0 \r\nL 2938 2094 \r\nQ 2938 2591 2744 2837 \r\nQ 2550 3084 2163 3084 \r\nQ 1697 3084 1428 2787 \r\nQ 1159 2491 1159 1978 \r\nL 1159 0 \r\nL 581 0 \r\nL 581 3500 \r\nL 1159 3500 \r\nL 1159 2956 \r\nQ 1366 3272 1645 3428 \r\nQ 1925 3584 2291 3584 \r\nQ 2894 3584 3203 3211 \r\nQ 3513 2838 3513 2113 \r\nz\r\n\" id=\"DejaVuSans-6e\" transform=\"scale(0.015625)\"/>\r\n        <path d=\"M 191 3500 \r\nL 800 3500 \r\nL 1894 563 \r\nL 2988 3500 \r\nL 3597 3500 \r\nL 2284 0 \r\nL 1503 0 \r\nL 191 3500 \r\nz\r\n\" id=\"DejaVuSans-76\" transform=\"scale(0.015625)\"/>\r\n        <path d=\"M 1959 3097 \r\nQ 1497 3097 1228 2736 \r\nQ 959 2375 959 1747 \r\nQ 959 1119 1226 758 \r\nQ 1494 397 1959 397 \r\nQ 2419 397 2687 759 \r\nQ 2956 1122 2956 1747 \r\nQ 2956 2369 2687 2733 \r\nQ 2419 3097 1959 3097 \r\nz\r\nM 1959 3584 \r\nQ 2709 3584 3137 3096 \r\nQ 3566 2609 3566 1747 \r\nQ 3566 888 3137 398 \r\nQ 2709 -91 1959 -91 \r\nQ 1206 -91 779 398 \r\nQ 353 888 353 1747 \r\nQ 353 2609 779 3096 \r\nQ 1206 3584 1959 3584 \r\nz\r\n\" id=\"DejaVuSans-6f\" transform=\"scale(0.015625)\"/>\r\n        <path d=\"M 603 3500 \r\nL 1178 3500 \r\nL 1178 0 \r\nL 603 0 \r\nL 603 3500 \r\nz\r\nM 603 4863 \r\nL 1178 4863 \r\nL 1178 4134 \r\nL 603 4134 \r\nL 603 4863 \r\nz\r\n\" id=\"DejaVuSans-69\" transform=\"scale(0.015625)\"/>\r\n        <path d=\"M 3122 3366 \r\nL 3122 2828 \r\nQ 2878 2963 2633 3030 \r\nQ 2388 3097 2138 3097 \r\nQ 1578 3097 1268 2742 \r\nQ 959 2388 959 1747 \r\nQ 959 1106 1268 751 \r\nQ 1578 397 2138 397 \r\nQ 2388 397 2633 464 \r\nQ 2878 531 3122 666 \r\nL 3122 134 \r\nQ 2881 22 2623 -34 \r\nQ 2366 -91 2075 -91 \r\nQ 1284 -91 818 406 \r\nQ 353 903 353 1747 \r\nQ 353 2603 823 3093 \r\nQ 1294 3584 2113 3584 \r\nQ 2378 3584 2631 3529 \r\nQ 2884 3475 3122 3366 \r\nz\r\n\" id=\"DejaVuSans-63\" transform=\"scale(0.015625)\"/>\r\n        <path d=\"M 3597 1894 \r\nL 3597 1613 \r\nL 953 1613 \r\nQ 991 1019 1311 708 \r\nQ 1631 397 2203 397 \r\nQ 2534 397 2845 478 \r\nQ 3156 559 3463 722 \r\nL 3463 178 \r\nQ 3153 47 2828 -22 \r\nQ 2503 -91 2169 -91 \r\nQ 1331 -91 842 396 \r\nQ 353 884 353 1716 \r\nQ 353 2575 817 3079 \r\nQ 1281 3584 2069 3584 \r\nQ 2775 3584 3186 3129 \r\nQ 3597 2675 3597 1894 \r\nz\r\nM 3022 2063 \r\nQ 3016 2534 2758 2815 \r\nQ 2500 3097 2075 3097 \r\nQ 1594 3097 1305 2825 \r\nQ 1016 2553 972 2059 \r\nL 3022 2063 \r\nz\r\n\" id=\"DejaVuSans-65\" transform=\"scale(0.015625)\"/>\r\n        <path d=\"M 628 4666 \r\nL 1478 4666 \r\nL 3547 763 \r\nL 3547 4666 \r\nL 4159 4666 \r\nL 4159 0 \r\nL 3309 0 \r\nL 1241 3903 \r\nL 1241 0 \r\nL 628 0 \r\nL 628 4666 \r\nz\r\n\" id=\"DejaVuSans-4e\" transform=\"scale(0.015625)\"/>\r\n       </defs>\r\n       <use xlink:href=\"#DejaVuSans-49\"/>\r\n       <use x=\"29.492188\" xlink:href=\"#DejaVuSans-6e\"/>\r\n       <use x=\"92.871094\" xlink:href=\"#DejaVuSans-76\"/>\r\n       <use x=\"152.050781\" xlink:href=\"#DejaVuSans-6f\"/>\r\n       <use x=\"213.232422\" xlink:href=\"#DejaVuSans-69\"/>\r\n       <use x=\"241.015625\" xlink:href=\"#DejaVuSans-63\"/>\r\n       <use x=\"295.996094\" xlink:href=\"#DejaVuSans-65\"/>\r\n       <use x=\"357.519531\" xlink:href=\"#DejaVuSans-4e\"/>\r\n       <use x=\"432.324219\" xlink:href=\"#DejaVuSans-6f\"/>\r\n      </g>\r\n     </g>\r\n    </g>\r\n    <g id=\"xtick_2\">\r\n     <g id=\"line2d_3\">\r\n      <path clip-path=\"url(#p6db973e674)\" d=\"M 146.1125 235.238437 \r\nL 146.1125 17.798437 \r\n\" style=\"fill:none;stroke:#b0b0b0;stroke-linecap:square;stroke-width:0.8;\"/>\r\n     </g>\r\n     <g id=\"line2d_4\">\r\n      <g>\r\n       <use style=\"stroke:#000000;stroke-width:0.8;\" x=\"146.1125\" xlink:href=\"#me58e669d54\" y=\"235.238437\"/>\r\n      </g>\r\n     </g>\r\n     <g id=\"text_2\">\r\n      <!-- Quantity -->\r\n      <g transform=\"translate(124.50625 249.836875)scale(0.1 -0.1)\">\r\n       <defs>\r\n        <path d=\"M 2522 4238 \r\nQ 1834 4238 1429 3725 \r\nQ 1025 3213 1025 2328 \r\nQ 1025 1447 1429 934 \r\nQ 1834 422 2522 422 \r\nQ 3209 422 3611 934 \r\nQ 4013 1447 4013 2328 \r\nQ 4013 3213 3611 3725 \r\nQ 3209 4238 2522 4238 \r\nz\r\nM 3406 84 \r\nL 4238 -825 \r\nL 3475 -825 \r\nL 2784 -78 \r\nQ 2681 -84 2626 -87 \r\nQ 2572 -91 2522 -91 \r\nQ 1538 -91 948 567 \r\nQ 359 1225 359 2328 \r\nQ 359 3434 948 4092 \r\nQ 1538 4750 2522 4750 \r\nQ 3503 4750 4090 4092 \r\nQ 4678 3434 4678 2328 \r\nQ 4678 1516 4351 937 \r\nQ 4025 359 3406 84 \r\nz\r\n\" id=\"DejaVuSans-51\" transform=\"scale(0.015625)\"/>\r\n        <path d=\"M 544 1381 \r\nL 544 3500 \r\nL 1119 3500 \r\nL 1119 1403 \r\nQ 1119 906 1312 657 \r\nQ 1506 409 1894 409 \r\nQ 2359 409 2629 706 \r\nQ 2900 1003 2900 1516 \r\nL 2900 3500 \r\nL 3475 3500 \r\nL 3475 0 \r\nL 2900 0 \r\nL 2900 538 \r\nQ 2691 219 2414 64 \r\nQ 2138 -91 1772 -91 \r\nQ 1169 -91 856 284 \r\nQ 544 659 544 1381 \r\nz\r\nM 1991 3584 \r\nL 1991 3584 \r\nz\r\n\" id=\"DejaVuSans-75\" transform=\"scale(0.015625)\"/>\r\n        <path d=\"M 2194 1759 \r\nQ 1497 1759 1228 1600 \r\nQ 959 1441 959 1056 \r\nQ 959 750 1161 570 \r\nQ 1363 391 1709 391 \r\nQ 2188 391 2477 730 \r\nQ 2766 1069 2766 1631 \r\nL 2766 1759 \r\nL 2194 1759 \r\nz\r\nM 3341 1997 \r\nL 3341 0 \r\nL 2766 0 \r\nL 2766 531 \r\nQ 2569 213 2275 61 \r\nQ 1981 -91 1556 -91 \r\nQ 1019 -91 701 211 \r\nQ 384 513 384 1019 \r\nQ 384 1609 779 1909 \r\nQ 1175 2209 1959 2209 \r\nL 2766 2209 \r\nL 2766 2266 \r\nQ 2766 2663 2505 2880 \r\nQ 2244 3097 1772 3097 \r\nQ 1472 3097 1187 3025 \r\nQ 903 2953 641 2809 \r\nL 641 3341 \r\nQ 956 3463 1253 3523 \r\nQ 1550 3584 1831 3584 \r\nQ 2591 3584 2966 3190 \r\nQ 3341 2797 3341 1997 \r\nz\r\n\" id=\"DejaVuSans-61\" transform=\"scale(0.015625)\"/>\r\n        <path d=\"M 1172 4494 \r\nL 1172 3500 \r\nL 2356 3500 \r\nL 2356 3053 \r\nL 1172 3053 \r\nL 1172 1153 \r\nQ 1172 725 1289 603 \r\nQ 1406 481 1766 481 \r\nL 2356 481 \r\nL 2356 0 \r\nL 1766 0 \r\nQ 1100 0 847 248 \r\nQ 594 497 594 1153 \r\nL 594 3053 \r\nL 172 3053 \r\nL 172 3500 \r\nL 594 3500 \r\nL 594 4494 \r\nL 1172 4494 \r\nz\r\n\" id=\"DejaVuSans-74\" transform=\"scale(0.015625)\"/>\r\n        <path d=\"M 2059 -325 \r\nQ 1816 -950 1584 -1140 \r\nQ 1353 -1331 966 -1331 \r\nL 506 -1331 \r\nL 506 -850 \r\nL 844 -850 \r\nQ 1081 -850 1212 -737 \r\nQ 1344 -625 1503 -206 \r\nL 1606 56 \r\nL 191 3500 \r\nL 800 3500 \r\nL 1894 763 \r\nL 2988 3500 \r\nL 3597 3500 \r\nL 2059 -325 \r\nz\r\n\" id=\"DejaVuSans-79\" transform=\"scale(0.015625)\"/>\r\n       </defs>\r\n       <use xlink:href=\"#DejaVuSans-51\"/>\r\n       <use x=\"78.710938\" xlink:href=\"#DejaVuSans-75\"/>\r\n       <use x=\"142.089844\" xlink:href=\"#DejaVuSans-61\"/>\r\n       <use x=\"203.369141\" xlink:href=\"#DejaVuSans-6e\"/>\r\n       <use x=\"266.748047\" xlink:href=\"#DejaVuSans-74\"/>\r\n       <use x=\"305.957031\" xlink:href=\"#DejaVuSans-69\"/>\r\n       <use x=\"333.740234\" xlink:href=\"#DejaVuSans-74\"/>\r\n       <use x=\"372.949219\" xlink:href=\"#DejaVuSans-79\"/>\r\n      </g>\r\n     </g>\r\n    </g>\r\n    <g id=\"xtick_3\">\r\n     <g id=\"line2d_5\">\r\n      <path clip-path=\"url(#p6db973e674)\" d=\"M 229.8125 235.238437 \r\nL 229.8125 17.798437 \r\n\" style=\"fill:none;stroke:#b0b0b0;stroke-linecap:square;stroke-width:0.8;\"/>\r\n     </g>\r\n     <g id=\"line2d_6\">\r\n      <g>\r\n       <use style=\"stroke:#000000;stroke-width:0.8;\" x=\"229.8125\" xlink:href=\"#me58e669d54\" y=\"235.238437\"/>\r\n      </g>\r\n     </g>\r\n     <g id=\"text_3\">\r\n      <!-- UnitPrice -->\r\n      <g transform=\"translate(207.4375 249.836875)scale(0.1 -0.1)\">\r\n       <defs>\r\n        <path d=\"M 556 4666 \r\nL 1191 4666 \r\nL 1191 1831 \r\nQ 1191 1081 1462 751 \r\nQ 1734 422 2344 422 \r\nQ 2950 422 3222 751 \r\nQ 3494 1081 3494 1831 \r\nL 3494 4666 \r\nL 4128 4666 \r\nL 4128 1753 \r\nQ 4128 841 3676 375 \r\nQ 3225 -91 2344 -91 \r\nQ 1459 -91 1007 375 \r\nQ 556 841 556 1753 \r\nL 556 4666 \r\nz\r\n\" id=\"DejaVuSans-55\" transform=\"scale(0.015625)\"/>\r\n        <path d=\"M 1259 4147 \r\nL 1259 2394 \r\nL 2053 2394 \r\nQ 2494 2394 2734 2622 \r\nQ 2975 2850 2975 3272 \r\nQ 2975 3691 2734 3919 \r\nQ 2494 4147 2053 4147 \r\nL 1259 4147 \r\nz\r\nM 628 4666 \r\nL 2053 4666 \r\nQ 2838 4666 3239 4311 \r\nQ 3641 3956 3641 3272 \r\nQ 3641 2581 3239 2228 \r\nQ 2838 1875 2053 1875 \r\nL 1259 1875 \r\nL 1259 0 \r\nL 628 0 \r\nL 628 4666 \r\nz\r\n\" id=\"DejaVuSans-50\" transform=\"scale(0.015625)\"/>\r\n        <path d=\"M 2631 2963 \r\nQ 2534 3019 2420 3045 \r\nQ 2306 3072 2169 3072 \r\nQ 1681 3072 1420 2755 \r\nQ 1159 2438 1159 1844 \r\nL 1159 0 \r\nL 581 0 \r\nL 581 3500 \r\nL 1159 3500 \r\nL 1159 2956 \r\nQ 1341 3275 1631 3429 \r\nQ 1922 3584 2338 3584 \r\nQ 2397 3584 2469 3576 \r\nQ 2541 3569 2628 3553 \r\nL 2631 2963 \r\nz\r\n\" id=\"DejaVuSans-72\" transform=\"scale(0.015625)\"/>\r\n       </defs>\r\n       <use xlink:href=\"#DejaVuSans-55\"/>\r\n       <use x=\"73.193359\" xlink:href=\"#DejaVuSans-6e\"/>\r\n       <use x=\"136.572266\" xlink:href=\"#DejaVuSans-69\"/>\r\n       <use x=\"164.355469\" xlink:href=\"#DejaVuSans-74\"/>\r\n       <use x=\"203.564453\" xlink:href=\"#DejaVuSans-50\"/>\r\n       <use x=\"262.117188\" xlink:href=\"#DejaVuSans-72\"/>\r\n       <use x=\"303.230469\" xlink:href=\"#DejaVuSans-69\"/>\r\n       <use x=\"331.013672\" xlink:href=\"#DejaVuSans-63\"/>\r\n       <use x=\"385.994141\" xlink:href=\"#DejaVuSans-65\"/>\r\n      </g>\r\n     </g>\r\n    </g>\r\n    <g id=\"xtick_4\">\r\n     <g id=\"line2d_7\">\r\n      <path clip-path=\"url(#p6db973e674)\" d=\"M 313.5125 235.238437 \r\nL 313.5125 17.798437 \r\n\" style=\"fill:none;stroke:#b0b0b0;stroke-linecap:square;stroke-width:0.8;\"/>\r\n     </g>\r\n     <g id=\"line2d_8\">\r\n      <g>\r\n       <use style=\"stroke:#000000;stroke-width:0.8;\" x=\"313.5125\" xlink:href=\"#me58e669d54\" y=\"235.238437\"/>\r\n      </g>\r\n     </g>\r\n     <g id=\"text_4\">\r\n      <!-- CustomerID -->\r\n      <g transform=\"translate(283.900781 249.836875)scale(0.1 -0.1)\">\r\n       <defs>\r\n        <path d=\"M 4122 4306 \r\nL 4122 3641 \r\nQ 3803 3938 3442 4084 \r\nQ 3081 4231 2675 4231 \r\nQ 1875 4231 1450 3742 \r\nQ 1025 3253 1025 2328 \r\nQ 1025 1406 1450 917 \r\nQ 1875 428 2675 428 \r\nQ 3081 428 3442 575 \r\nQ 3803 722 4122 1019 \r\nL 4122 359 \r\nQ 3791 134 3420 21 \r\nQ 3050 -91 2638 -91 \r\nQ 1578 -91 968 557 \r\nQ 359 1206 359 2328 \r\nQ 359 3453 968 4101 \r\nQ 1578 4750 2638 4750 \r\nQ 3056 4750 3426 4639 \r\nQ 3797 4528 4122 4306 \r\nz\r\n\" id=\"DejaVuSans-43\" transform=\"scale(0.015625)\"/>\r\n        <path d=\"M 2834 3397 \r\nL 2834 2853 \r\nQ 2591 2978 2328 3040 \r\nQ 2066 3103 1784 3103 \r\nQ 1356 3103 1142 2972 \r\nQ 928 2841 928 2578 \r\nQ 928 2378 1081 2264 \r\nQ 1234 2150 1697 2047 \r\nL 1894 2003 \r\nQ 2506 1872 2764 1633 \r\nQ 3022 1394 3022 966 \r\nQ 3022 478 2636 193 \r\nQ 2250 -91 1575 -91 \r\nQ 1294 -91 989 -36 \r\nQ 684 19 347 128 \r\nL 347 722 \r\nQ 666 556 975 473 \r\nQ 1284 391 1588 391 \r\nQ 1994 391 2212 530 \r\nQ 2431 669 2431 922 \r\nQ 2431 1156 2273 1281 \r\nQ 2116 1406 1581 1522 \r\nL 1381 1569 \r\nQ 847 1681 609 1914 \r\nQ 372 2147 372 2553 \r\nQ 372 3047 722 3315 \r\nQ 1072 3584 1716 3584 \r\nQ 2034 3584 2315 3537 \r\nQ 2597 3491 2834 3397 \r\nz\r\n\" id=\"DejaVuSans-73\" transform=\"scale(0.015625)\"/>\r\n        <path d=\"M 3328 2828 \r\nQ 3544 3216 3844 3400 \r\nQ 4144 3584 4550 3584 \r\nQ 5097 3584 5394 3201 \r\nQ 5691 2819 5691 2113 \r\nL 5691 0 \r\nL 5113 0 \r\nL 5113 2094 \r\nQ 5113 2597 4934 2840 \r\nQ 4756 3084 4391 3084 \r\nQ 3944 3084 3684 2787 \r\nQ 3425 2491 3425 1978 \r\nL 3425 0 \r\nL 2847 0 \r\nL 2847 2094 \r\nQ 2847 2600 2669 2842 \r\nQ 2491 3084 2119 3084 \r\nQ 1678 3084 1418 2786 \r\nQ 1159 2488 1159 1978 \r\nL 1159 0 \r\nL 581 0 \r\nL 581 3500 \r\nL 1159 3500 \r\nL 1159 2956 \r\nQ 1356 3278 1631 3431 \r\nQ 1906 3584 2284 3584 \r\nQ 2666 3584 2933 3390 \r\nQ 3200 3197 3328 2828 \r\nz\r\n\" id=\"DejaVuSans-6d\" transform=\"scale(0.015625)\"/>\r\n        <path d=\"M 1259 4147 \r\nL 1259 519 \r\nL 2022 519 \r\nQ 2988 519 3436 956 \r\nQ 3884 1394 3884 2338 \r\nQ 3884 3275 3436 3711 \r\nQ 2988 4147 2022 4147 \r\nL 1259 4147 \r\nz\r\nM 628 4666 \r\nL 1925 4666 \r\nQ 3281 4666 3915 4102 \r\nQ 4550 3538 4550 2338 \r\nQ 4550 1131 3912 565 \r\nQ 3275 0 1925 0 \r\nL 628 0 \r\nL 628 4666 \r\nz\r\n\" id=\"DejaVuSans-44\" transform=\"scale(0.015625)\"/>\r\n       </defs>\r\n       <use xlink:href=\"#DejaVuSans-43\"/>\r\n       <use x=\"69.824219\" xlink:href=\"#DejaVuSans-75\"/>\r\n       <use x=\"133.203125\" xlink:href=\"#DejaVuSans-73\"/>\r\n       <use x=\"185.302734\" xlink:href=\"#DejaVuSans-74\"/>\r\n       <use x=\"224.511719\" xlink:href=\"#DejaVuSans-6f\"/>\r\n       <use x=\"285.693359\" xlink:href=\"#DejaVuSans-6d\"/>\r\n       <use x=\"383.105469\" xlink:href=\"#DejaVuSans-65\"/>\r\n       <use x=\"444.628906\" xlink:href=\"#DejaVuSans-72\"/>\r\n       <use x=\"485.742188\" xlink:href=\"#DejaVuSans-49\"/>\r\n       <use x=\"515.234375\" xlink:href=\"#DejaVuSans-44\"/>\r\n      </g>\r\n     </g>\r\n    </g>\r\n   </g>\r\n   <g id=\"matplotlib.axis_2\">\r\n    <g id=\"ytick_1\">\r\n     <g id=\"line2d_9\">\r\n      <path clip-path=\"url(#p6db973e674)\" d=\"M 20.5625 225.354753 \r\nL 355.3625 225.354753 \r\n\" style=\"fill:none;stroke:#b0b0b0;stroke-linecap:square;stroke-width:0.8;\"/>\r\n     </g>\r\n     <g id=\"line2d_10\">\r\n      <defs>\r\n       <path d=\"M 0 0 \r\nL -3.5 0 \r\n\" id=\"m2989a4ef76\" style=\"stroke:#000000;stroke-width:0.8;\"/>\r\n      </defs>\r\n      <g>\r\n       <use style=\"stroke:#000000;stroke-width:0.8;\" x=\"20.5625\" xlink:href=\"#m2989a4ef76\" y=\"225.354753\"/>\r\n      </g>\r\n     </g>\r\n     <g id=\"text_5\">\r\n      <!-- 0 -->\r\n      <g transform=\"translate(7.2 229.153972)scale(0.1 -0.1)\">\r\n       <defs>\r\n        <path d=\"M 2034 4250 \r\nQ 1547 4250 1301 3770 \r\nQ 1056 3291 1056 2328 \r\nQ 1056 1369 1301 889 \r\nQ 1547 409 2034 409 \r\nQ 2525 409 2770 889 \r\nQ 3016 1369 3016 2328 \r\nQ 3016 3291 2770 3770 \r\nQ 2525 4250 2034 4250 \r\nz\r\nM 2034 4750 \r\nQ 2819 4750 3233 4129 \r\nQ 3647 3509 3647 2328 \r\nQ 3647 1150 3233 529 \r\nQ 2819 -91 2034 -91 \r\nQ 1250 -91 836 529 \r\nQ 422 1150 422 2328 \r\nQ 422 3509 836 4129 \r\nQ 1250 4750 2034 4750 \r\nz\r\n\" id=\"DejaVuSans-30\" transform=\"scale(0.015625)\"/>\r\n       </defs>\r\n       <use xlink:href=\"#DejaVuSans-30\"/>\r\n      </g>\r\n     </g>\r\n    </g>\r\n    <g id=\"ytick_2\">\r\n     <g id=\"line2d_11\">\r\n      <path clip-path=\"url(#p6db973e674)\" d=\"M 20.5625 177.141904 \r\nL 355.3625 177.141904 \r\n\" style=\"fill:none;stroke:#b0b0b0;stroke-linecap:square;stroke-width:0.8;\"/>\r\n     </g>\r\n     <g id=\"line2d_12\">\r\n      <g>\r\n       <use style=\"stroke:#000000;stroke-width:0.8;\" x=\"20.5625\" xlink:href=\"#m2989a4ef76\" y=\"177.141904\"/>\r\n      </g>\r\n     </g>\r\n     <g id=\"text_6\">\r\n      <!-- 1 -->\r\n      <g transform=\"translate(7.2 180.941123)scale(0.1 -0.1)\">\r\n       <defs>\r\n        <path d=\"M 794 531 \r\nL 1825 531 \r\nL 1825 4091 \r\nL 703 3866 \r\nL 703 4441 \r\nL 1819 4666 \r\nL 2450 4666 \r\nL 2450 531 \r\nL 3481 531 \r\nL 3481 0 \r\nL 794 0 \r\nL 794 531 \r\nz\r\n\" id=\"DejaVuSans-31\" transform=\"scale(0.015625)\"/>\r\n       </defs>\r\n       <use xlink:href=\"#DejaVuSans-31\"/>\r\n      </g>\r\n     </g>\r\n    </g>\r\n    <g id=\"ytick_3\">\r\n     <g id=\"line2d_13\">\r\n      <path clip-path=\"url(#p6db973e674)\" d=\"M 20.5625 128.929056 \r\nL 355.3625 128.929056 \r\n\" style=\"fill:none;stroke:#b0b0b0;stroke-linecap:square;stroke-width:0.8;\"/>\r\n     </g>\r\n     <g id=\"line2d_14\">\r\n      <g>\r\n       <use style=\"stroke:#000000;stroke-width:0.8;\" x=\"20.5625\" xlink:href=\"#m2989a4ef76\" y=\"128.929056\"/>\r\n      </g>\r\n     </g>\r\n     <g id=\"text_7\">\r\n      <!-- 2 -->\r\n      <g transform=\"translate(7.2 132.728275)scale(0.1 -0.1)\">\r\n       <defs>\r\n        <path d=\"M 1228 531 \r\nL 3431 531 \r\nL 3431 0 \r\nL 469 0 \r\nL 469 531 \r\nQ 828 903 1448 1529 \r\nQ 2069 2156 2228 2338 \r\nQ 2531 2678 2651 2914 \r\nQ 2772 3150 2772 3378 \r\nQ 2772 3750 2511 3984 \r\nQ 2250 4219 1831 4219 \r\nQ 1534 4219 1204 4116 \r\nQ 875 4013 500 3803 \r\nL 500 4441 \r\nQ 881 4594 1212 4672 \r\nQ 1544 4750 1819 4750 \r\nQ 2544 4750 2975 4387 \r\nQ 3406 4025 3406 3419 \r\nQ 3406 3131 3298 2873 \r\nQ 3191 2616 2906 2266 \r\nQ 2828 2175 2409 1742 \r\nQ 1991 1309 1228 531 \r\nz\r\n\" id=\"DejaVuSans-32\" transform=\"scale(0.015625)\"/>\r\n       </defs>\r\n       <use xlink:href=\"#DejaVuSans-32\"/>\r\n      </g>\r\n     </g>\r\n    </g>\r\n    <g id=\"ytick_4\">\r\n     <g id=\"line2d_15\">\r\n      <path clip-path=\"url(#p6db973e674)\" d=\"M 20.5625 80.716207 \r\nL 355.3625 80.716207 \r\n\" style=\"fill:none;stroke:#b0b0b0;stroke-linecap:square;stroke-width:0.8;\"/>\r\n     </g>\r\n     <g id=\"line2d_16\">\r\n      <g>\r\n       <use style=\"stroke:#000000;stroke-width:0.8;\" x=\"20.5625\" xlink:href=\"#m2989a4ef76\" y=\"80.716207\"/>\r\n      </g>\r\n     </g>\r\n     <g id=\"text_8\">\r\n      <!-- 3 -->\r\n      <g transform=\"translate(7.2 84.515426)scale(0.1 -0.1)\">\r\n       <defs>\r\n        <path d=\"M 2597 2516 \r\nQ 3050 2419 3304 2112 \r\nQ 3559 1806 3559 1356 \r\nQ 3559 666 3084 287 \r\nQ 2609 -91 1734 -91 \r\nQ 1441 -91 1130 -33 \r\nQ 819 25 488 141 \r\nL 488 750 \r\nQ 750 597 1062 519 \r\nQ 1375 441 1716 441 \r\nQ 2309 441 2620 675 \r\nQ 2931 909 2931 1356 \r\nQ 2931 1769 2642 2001 \r\nQ 2353 2234 1838 2234 \r\nL 1294 2234 \r\nL 1294 2753 \r\nL 1863 2753 \r\nQ 2328 2753 2575 2939 \r\nQ 2822 3125 2822 3475 \r\nQ 2822 3834 2567 4026 \r\nQ 2313 4219 1838 4219 \r\nQ 1578 4219 1281 4162 \r\nQ 984 4106 628 3988 \r\nL 628 4550 \r\nQ 988 4650 1302 4700 \r\nQ 1616 4750 1894 4750 \r\nQ 2613 4750 3031 4423 \r\nQ 3450 4097 3450 3541 \r\nQ 3450 3153 3228 2886 \r\nQ 3006 2619 2597 2516 \r\nz\r\n\" id=\"DejaVuSans-33\" transform=\"scale(0.015625)\"/>\r\n       </defs>\r\n       <use xlink:href=\"#DejaVuSans-33\"/>\r\n      </g>\r\n     </g>\r\n    </g>\r\n    <g id=\"ytick_5\">\r\n     <g id=\"line2d_17\">\r\n      <path clip-path=\"url(#p6db973e674)\" d=\"M 20.5625 32.503359 \r\nL 355.3625 32.503359 \r\n\" style=\"fill:none;stroke:#b0b0b0;stroke-linecap:square;stroke-width:0.8;\"/>\r\n     </g>\r\n     <g id=\"line2d_18\">\r\n      <g>\r\n       <use style=\"stroke:#000000;stroke-width:0.8;\" x=\"20.5625\" xlink:href=\"#m2989a4ef76\" y=\"32.503359\"/>\r\n      </g>\r\n     </g>\r\n     <g id=\"text_9\">\r\n      <!-- 4 -->\r\n      <g transform=\"translate(7.2 36.302577)scale(0.1 -0.1)\">\r\n       <defs>\r\n        <path d=\"M 2419 4116 \r\nL 825 1625 \r\nL 2419 1625 \r\nL 2419 4116 \r\nz\r\nM 2253 4666 \r\nL 3047 4666 \r\nL 3047 1625 \r\nL 3713 1625 \r\nL 3713 1100 \r\nL 3047 1100 \r\nL 3047 0 \r\nL 2419 0 \r\nL 2419 1100 \r\nL 313 1100 \r\nL 313 1709 \r\nL 2253 4666 \r\nz\r\n\" id=\"DejaVuSans-34\" transform=\"scale(0.015625)\"/>\r\n       </defs>\r\n       <use xlink:href=\"#DejaVuSans-34\"/>\r\n      </g>\r\n     </g>\r\n    </g>\r\n    <g id=\"text_10\">\r\n     <!-- 1e6 -->\r\n     <g transform=\"translate(20.5625 14.798437)scale(0.1 -0.1)\">\r\n      <defs>\r\n       <path d=\"M 2113 2584 \r\nQ 1688 2584 1439 2293 \r\nQ 1191 2003 1191 1497 \r\nQ 1191 994 1439 701 \r\nQ 1688 409 2113 409 \r\nQ 2538 409 2786 701 \r\nQ 3034 994 3034 1497 \r\nQ 3034 2003 2786 2293 \r\nQ 2538 2584 2113 2584 \r\nz\r\nM 3366 4563 \r\nL 3366 3988 \r\nQ 3128 4100 2886 4159 \r\nQ 2644 4219 2406 4219 \r\nQ 1781 4219 1451 3797 \r\nQ 1122 3375 1075 2522 \r\nQ 1259 2794 1537 2939 \r\nQ 1816 3084 2150 3084 \r\nQ 2853 3084 3261 2657 \r\nQ 3669 2231 3669 1497 \r\nQ 3669 778 3244 343 \r\nQ 2819 -91 2113 -91 \r\nQ 1303 -91 875 529 \r\nQ 447 1150 447 2328 \r\nQ 447 3434 972 4092 \r\nQ 1497 4750 2381 4750 \r\nQ 2619 4750 2861 4703 \r\nQ 3103 4656 3366 4563 \r\nz\r\n\" id=\"DejaVuSans-36\" transform=\"scale(0.015625)\"/>\r\n      </defs>\r\n      <use xlink:href=\"#DejaVuSans-31\"/>\r\n      <use x=\"63.623047\" xlink:href=\"#DejaVuSans-65\"/>\r\n      <use x=\"125.146484\" xlink:href=\"#DejaVuSans-36\"/>\r\n     </g>\r\n    </g>\r\n   </g>\r\n   <g id=\"line2d_19\">\r\n    <path clip-path=\"url(#p6db973e674)\" d=\"M 43.58 199.488994 \r\nL 81.245 199.488994 \r\nL 81.245 199.476844 \r\nL 43.58 199.476844 \r\nL 43.58 199.488994 \r\n\" style=\"fill:none;stroke:#1f77b4;stroke-linecap:square;\"/>\r\n   </g>\r\n   <g id=\"line2d_20\">\r\n    <path clip-path=\"url(#p6db973e674)\" d=\"M 62.4125 199.488994 \r\nL 62.4125 199.495068 \r\n\" style=\"fill:none;stroke:#1f77b4;stroke-linecap:square;\"/>\r\n   </g>\r\n   <g id=\"line2d_21\">\r\n    <path clip-path=\"url(#p6db973e674)\" d=\"M 62.4125 199.476844 \r\nL 62.4125 199.471058 \r\n\" style=\"fill:none;stroke:#1f77b4;stroke-linecap:square;\"/>\r\n   </g>\r\n   <g id=\"line2d_22\">\r\n    <path clip-path=\"url(#p6db973e674)\" d=\"M 52.99625 199.495068 \r\nL 71.82875 199.495068 \r\n\" style=\"fill:none;stroke:#000000;stroke-linecap:square;\"/>\r\n   </g>\r\n   <g id=\"line2d_23\">\r\n    <path clip-path=\"url(#p6db973e674)\" d=\"M 52.99625 199.471058 \r\nL 71.82875 199.471058 \r\n\" style=\"fill:none;stroke:#000000;stroke-linecap:square;\"/>\r\n   </g>\r\n   <g id=\"line2d_24\"/>\r\n   <g id=\"line2d_25\">\r\n    <path clip-path=\"url(#p6db973e674)\" d=\"M 127.28 225.354608 \r\nL 164.945 225.354608 \r\nL 164.945 225.353789 \r\nL 127.28 225.353789 \r\nL 127.28 225.354608 \r\n\" style=\"fill:none;stroke:#1f77b4;stroke-linecap:square;\"/>\r\n   </g>\r\n   <g id=\"line2d_26\">\r\n    <path clip-path=\"url(#p6db973e674)\" d=\"M 146.1125 225.354608 \r\nL 146.1125 225.354801 \r\n\" style=\"fill:none;stroke:#1f77b4;stroke-linecap:square;\"/>\r\n   </g>\r\n   <g id=\"line2d_27\">\r\n    <path clip-path=\"url(#p6db973e674)\" d=\"M 146.1125 225.353789 \r\nL 146.1125 225.352824 \r\n\" style=\"fill:none;stroke:#1f77b4;stroke-linecap:square;\"/>\r\n   </g>\r\n   <g id=\"line2d_28\">\r\n    <path clip-path=\"url(#p6db973e674)\" d=\"M 136.69625 225.354801 \r\nL 155.52875 225.354801 \r\n\" style=\"fill:none;stroke:#000000;stroke-linecap:square;\"/>\r\n   </g>\r\n   <g id=\"line2d_29\">\r\n    <path clip-path=\"url(#p6db973e674)\" d=\"M 136.69625 225.352824 \r\nL 155.52875 225.352824 \r\n\" style=\"fill:none;stroke:#000000;stroke-linecap:square;\"/>\r\n   </g>\r\n   <g id=\"line2d_30\">\r\n    <defs>\r\n     <path d=\"M 0 3 \r\nC 0.795609 3 1.55874 2.683901 2.12132 2.12132 \r\nC 2.683901 1.55874 3 0.795609 3 0 \r\nC 3 -0.795609 2.683901 -1.55874 2.12132 -2.12132 \r\nC 1.55874 -2.683901 0.795609 -3 0 -3 \r\nC -0.795609 -3 -1.55874 -2.683901 -2.12132 -2.12132 \r\nC -2.683901 -1.55874 -3 -0.795609 -3 0 \r\nC -3 0.795609 -2.683901 1.55874 -2.12132 2.12132 \r\nC -1.55874 2.683901 -0.795609 3 0 3 \r\nz\r\n\" id=\"m68212e1da3\" style=\"stroke:#000000;\"/>\r\n    </defs>\r\n    <g clip-path=\"url(#p6db973e674)\">\r\n     <use style=\"fill-opacity:0;stroke:#000000;\" x=\"146.1125\" xlink:href=\"#m68212e1da3\" y=\"225.352439\"/>\r\n     <use style=\"fill-opacity:0;stroke:#000000;\" x=\"146.1125\" xlink:href=\"#m68212e1da3\" y=\"225.350896\"/>\r\n     <use style=\"fill-opacity:0;stroke:#000000;\" x=\"146.1125\" xlink:href=\"#m68212e1da3\" y=\"225.352439\"/>\r\n     <use style=\"fill-opacity:0;stroke:#000000;\" x=\"146.1125\" xlink:href=\"#m68212e1da3\" y=\"225.351667\"/>\r\n     <use style=\"fill-opacity:0;stroke:#000000;\" x=\"146.1125\" xlink:href=\"#m68212e1da3\" y=\"225.348967\"/>\r\n     <use style=\"fill-opacity:0;stroke:#000000;\" x=\"146.1125\" xlink:href=\"#m68212e1da3\" y=\"225.352439\"/>\r\n     <use style=\"fill-opacity:0;stroke:#000000;\" x=\"146.1125\" xlink:href=\"#m68212e1da3\" y=\"225.350124\"/>\r\n     <use style=\"fill-opacity:0;stroke:#000000;\" x=\"146.1125\" xlink:href=\"#m68212e1da3\" y=\"225.352342\"/>\r\n     <use style=\"fill-opacity:0;stroke:#000000;\" x=\"146.1125\" xlink:href=\"#m68212e1da3\" y=\"225.352439\"/>\r\n     <use style=\"fill-opacity:0;stroke:#000000;\" x=\"146.1125\" xlink:href=\"#m68212e1da3\" y=\"225.349932\"/>\r\n     <use style=\"fill-opacity:0;stroke:#000000;\" x=\"146.1125\" xlink:href=\"#m68212e1da3\" y=\"225.349932\"/>\r\n     <use style=\"fill-opacity:0;stroke:#000000;\" x=\"146.1125\" xlink:href=\"#m68212e1da3\" y=\"225.345496\"/>\r\n     <use style=\"fill-opacity:0;stroke:#000000;\" x=\"146.1125\" xlink:href=\"#m68212e1da3\" y=\"225.345496\"/>\r\n     <use style=\"fill-opacity:0;stroke:#000000;\" x=\"146.1125\" xlink:href=\"#m68212e1da3\" y=\"225.345496\"/>\r\n     <use style=\"fill-opacity:0;stroke:#000000;\" x=\"146.1125\" xlink:href=\"#m68212e1da3\" y=\"225.333925\"/>\r\n     <use style=\"fill-opacity:0;stroke:#000000;\" x=\"146.1125\" xlink:href=\"#m68212e1da3\" y=\"225.333925\"/>\r\n     <use style=\"fill-opacity:0;stroke:#000000;\" x=\"146.1125\" xlink:href=\"#m68212e1da3\" y=\"225.352439\"/>\r\n     <use style=\"fill-opacity:0;stroke:#000000;\" x=\"146.1125\" xlink:href=\"#m68212e1da3\" y=\"225.352439\"/>\r\n     <use style=\"fill-opacity:0;stroke:#000000;\" x=\"146.1125\" xlink:href=\"#m68212e1da3\" y=\"225.34781\"/>\r\n     <use style=\"fill-opacity:0;stroke:#000000;\" x=\"146.1125\" xlink:href=\"#m68212e1da3\" y=\"225.340868\"/>\r\n     <use style=\"fill-opacity:0;stroke:#000000;\" x=\"146.1125\" xlink:href=\"#m68212e1da3\" y=\"225.351667\"/>\r\n     <use style=\"fill-opacity:0;stroke:#000000;\" x=\"146.1125\" xlink:href=\"#m68212e1da3\" y=\"225.349932\"/>\r\n     <use style=\"fill-opacity:0;stroke:#000000;\" x=\"146.1125\" xlink:href=\"#m68212e1da3\" y=\"225.352342\"/>\r\n     <use style=\"fill-opacity:0;stroke:#000000;\" x=\"146.1125\" xlink:href=\"#m68212e1da3\" y=\"225.350124\"/>\r\n     <use style=\"fill-opacity:0;stroke:#000000;\" x=\"146.1125\" xlink:href=\"#m68212e1da3\" y=\"225.350124\"/>\r\n     <use style=\"fill-opacity:0;stroke:#000000;\" x=\"146.1125\" xlink:href=\"#m68212e1da3\" y=\"225.352439\"/>\r\n     <use style=\"fill-opacity:0;stroke:#000000;\" x=\"146.1125\" xlink:href=\"#m68212e1da3\" y=\"225.34781\"/>\r\n     <use style=\"fill-opacity:0;stroke:#000000;\" x=\"146.1125\" xlink:href=\"#m68212e1da3\" y=\"225.352439\"/>\r\n     <use style=\"fill-opacity:0;stroke:#000000;\" x=\"146.1125\" xlink:href=\"#m68212e1da3\" y=\"225.350124\"/>\r\n     <use style=\"fill-opacity:0;stroke:#000000;\" x=\"146.1125\" xlink:href=\"#m68212e1da3\" y=\"225.349932\"/>\r\n     <use style=\"fill-opacity:0;stroke:#000000;\" x=\"146.1125\" xlink:href=\"#m68212e1da3\" y=\"225.346191\"/>\r\n     <use style=\"fill-opacity:0;stroke:#000000;\" x=\"146.1125\" xlink:href=\"#m68212e1da3\" y=\"225.346191\"/>\r\n     <use style=\"fill-opacity:0;stroke:#000000;\" x=\"146.1125\" xlink:href=\"#m68212e1da3\" y=\"225.346191\"/>\r\n     <use style=\"fill-opacity:0;stroke:#000000;\" x=\"146.1125\" xlink:href=\"#m68212e1da3\" y=\"225.346191\"/>\r\n     <use style=\"fill-opacity:0;stroke:#000000;\" x=\"146.1125\" xlink:href=\"#m68212e1da3\" y=\"225.346191\"/>\r\n     <use style=\"fill-opacity:0;stroke:#000000;\" x=\"146.1125\" xlink:href=\"#m68212e1da3\" y=\"225.346191\"/>\r\n     <use style=\"fill-opacity:0;stroke:#000000;\" x=\"146.1125\" xlink:href=\"#m68212e1da3\" y=\"225.346191\"/>\r\n     <use style=\"fill-opacity:0;stroke:#000000;\" x=\"146.1125\" xlink:href=\"#m68212e1da3\" y=\"225.346191\"/>\r\n     <use style=\"fill-opacity:0;stroke:#000000;\" x=\"146.1125\" xlink:href=\"#m68212e1da3\" y=\"225.346191\"/>\r\n     <use style=\"fill-opacity:0;stroke:#000000;\" x=\"146.1125\" xlink:href=\"#m68212e1da3\" y=\"225.352439\"/>\r\n     <use style=\"fill-opacity:0;stroke:#000000;\" x=\"146.1125\" xlink:href=\"#m68212e1da3\" y=\"225.352439\"/>\r\n     <use style=\"fill-opacity:0;stroke:#000000;\" x=\"146.1125\" xlink:href=\"#m68212e1da3\" y=\"225.352439\"/>\r\n     <use style=\"fill-opacity:0;stroke:#000000;\" x=\"146.1125\" xlink:href=\"#m68212e1da3\" y=\"225.352439\"/>\r\n     <use style=\"fill-opacity:0;stroke:#000000;\" x=\"146.1125\" xlink:href=\"#m68212e1da3\" y=\"225.346191\"/>\r\n     <use style=\"fill-opacity:0;stroke:#000000;\" x=\"146.1125\" xlink:href=\"#m68212e1da3\" y=\"225.346191\"/>\r\n     <use style=\"fill-opacity:0;stroke:#000000;\" x=\"146.1125\" xlink:href=\"#m68212e1da3\" y=\"225.346191\"/>\r\n     <use style=\"fill-opacity:0;stroke:#000000;\" x=\"146.1125\" xlink:href=\"#m68212e1da3\" y=\"225.346191\"/>\r\n     <use style=\"fill-opacity:0;stroke:#000000;\" x=\"146.1125\" xlink:href=\"#m68212e1da3\" y=\"225.346191\"/>\r\n     <use style=\"fill-opacity:0;stroke:#000000;\" x=\"146.1125\" xlink:href=\"#m68212e1da3\" y=\"225.346191\"/>\r\n     <use style=\"fill-opacity:0;stroke:#000000;\" x=\"146.1125\" xlink:href=\"#m68212e1da3\" y=\"225.346191\"/>\r\n     <use style=\"fill-opacity:0;stroke:#000000;\" x=\"146.1125\" xlink:href=\"#m68212e1da3\" y=\"225.346191\"/>\r\n     <use style=\"fill-opacity:0;stroke:#000000;\" x=\"146.1125\" xlink:href=\"#m68212e1da3\" y=\"225.346191\"/>\r\n     <use style=\"fill-opacity:0;stroke:#000000;\" x=\"146.1125\" xlink:href=\"#m68212e1da3\" y=\"225.346191\"/>\r\n     <use style=\"fill-opacity:0;stroke:#000000;\" x=\"146.1125\" xlink:href=\"#m68212e1da3\" y=\"225.346191\"/>\r\n     <use style=\"fill-opacity:0;stroke:#000000;\" x=\"146.1125\" xlink:href=\"#m68212e1da3\" y=\"225.350124\"/>\r\n     <use style=\"fill-opacity:0;stroke:#000000;\" x=\"146.1125\" xlink:href=\"#m68212e1da3\" y=\"225.348582\"/>\r\n     <use style=\"fill-opacity:0;stroke:#000000;\" x=\"146.1125\" xlink:href=\"#m68212e1da3\" y=\"224.776199\"/>\r\n     <use style=\"fill-opacity:0;stroke:#000000;\" x=\"146.1125\" xlink:href=\"#m68212e1da3\" y=\"225.161902\"/>\r\n     <use style=\"fill-opacity:0;stroke:#000000;\" x=\"146.1125\" xlink:href=\"#m68212e1da3\" y=\"222.365556\"/>\r\n    </g>\r\n   </g>\r\n   <g id=\"line2d_31\">\r\n    <path clip-path=\"url(#p6db973e674)\" d=\"M 210.98 224.29407 \r\nL 248.645 224.29407 \r\nL 248.645 223.522665 \r\nL 210.98 223.522665 \r\nL 210.98 224.29407 \r\n\" style=\"fill:none;stroke:#1f77b4;stroke-linecap:square;\"/>\r\n   </g>\r\n   <g id=\"line2d_32\">\r\n    <path clip-path=\"url(#p6db973e674)\" d=\"M 229.8125 224.29407 \r\nL 229.8125 224.63156 \r\n\" style=\"fill:none;stroke:#1f77b4;stroke-linecap:square;\"/>\r\n   </g>\r\n   <g id=\"line2d_33\">\r\n    <path clip-path=\"url(#p6db973e674)\" d=\"M 229.8125 223.522665 \r\nL 229.8125 223.185175 \r\n\" style=\"fill:none;stroke:#1f77b4;stroke-linecap:square;\"/>\r\n   </g>\r\n   <g id=\"line2d_34\">\r\n    <path clip-path=\"url(#p6db973e674)\" d=\"M 220.39625 224.63156 \r\nL 239.22875 224.63156 \r\n\" style=\"fill:none;stroke:#000000;stroke-linecap:square;\"/>\r\n   </g>\r\n   <g id=\"line2d_35\">\r\n    <path clip-path=\"url(#p6db973e674)\" d=\"M 220.39625 223.185175 \r\nL 239.22875 223.185175 \r\n\" style=\"fill:none;stroke:#000000;stroke-linecap:square;\"/>\r\n   </g>\r\n   <g id=\"line2d_36\">\r\n    <g clip-path=\"url(#p6db973e674)\">\r\n     <use style=\"fill-opacity:0;stroke:#000000;\" x=\"229.8125\" xlink:href=\"#m68212e1da3\" y=\"114.465201\"/>\r\n     <use style=\"fill-opacity:0;stroke:#000000;\" x=\"229.8125\" xlink:href=\"#m68212e1da3\" y=\"148.214195\"/>\r\n     <use style=\"fill-opacity:0;stroke:#000000;\" x=\"229.8125\" xlink:href=\"#m68212e1da3\" y=\"27.682074\"/>\r\n    </g>\r\n   </g>\r\n   <g id=\"line2d_37\">\r\n    <path clip-path=\"url(#p6db973e674)\" d=\"M 294.68 224.664972 \r\nL 332.345 224.664972 \r\nL 332.345 224.510498 \r\nL 294.68 224.510498 \r\nL 294.68 224.664972 \r\n\" style=\"fill:none;stroke:#1f77b4;stroke-linecap:square;\"/>\r\n   </g>\r\n   <g id=\"line2d_38\">\r\n    <path clip-path=\"url(#p6db973e674)\" d=\"M 313.5125 224.664972 \r\nL 313.5125 224.755419 \r\n\" style=\"fill:none;stroke:#1f77b4;stroke-linecap:square;\"/>\r\n   </g>\r\n   <g id=\"line2d_39\">\r\n    <path clip-path=\"url(#p6db973e674)\" d=\"M 313.5125 224.510498 \r\nL 313.5125 224.483354 \r\n\" style=\"fill:none;stroke:#1f77b4;stroke-linecap:square;\"/>\r\n   </g>\r\n   <g id=\"line2d_40\">\r\n    <path clip-path=\"url(#p6db973e674)\" d=\"M 304.09625 224.755419 \r\nL 322.92875 224.755419 \r\n\" style=\"fill:none;stroke:#000000;stroke-linecap:square;\"/>\r\n   </g>\r\n   <g id=\"line2d_41\">\r\n    <path clip-path=\"url(#p6db973e674)\" d=\"M 304.09625 224.483354 \r\nL 322.92875 224.483354 \r\n\" style=\"fill:none;stroke:#000000;stroke-linecap:square;\"/>\r\n   </g>\r\n   <g id=\"line2d_42\"/>\r\n   <g id=\"line2d_43\">\r\n    <path clip-path=\"url(#p6db973e674)\" d=\"M 43.58 199.482919 \r\nL 81.245 199.482919 \r\n\" style=\"fill:none;stroke:#2ca02c;stroke-linecap:square;\"/>\r\n   </g>\r\n   <g id=\"line2d_44\">\r\n    <path clip-path=\"url(#p6db973e674)\" d=\"M 127.28 225.354464 \r\nL 164.945 225.354464 \r\n\" style=\"fill:none;stroke:#2ca02c;stroke-linecap:square;\"/>\r\n   </g>\r\n   <g id=\"line2d_45\">\r\n    <path clip-path=\"url(#p6db973e674)\" d=\"M 210.98 223.95658 \r\nL 248.645 223.95658 \r\n\" style=\"fill:none;stroke:#2ca02c;stroke-linecap:square;\"/>\r\n   </g>\r\n   <g id=\"line2d_46\">\r\n    <path clip-path=\"url(#p6db973e674)\" d=\"M 294.68 224.590001 \r\nL 332.345 224.590001 \r\n\" style=\"fill:none;stroke:#2ca02c;stroke-linecap:square;\"/>\r\n   </g>\r\n   <g id=\"patch_3\">\r\n    <path d=\"M 20.5625 235.238437 \r\nL 20.5625 17.798437 \r\n\" style=\"fill:none;stroke:#000000;stroke-linecap:square;stroke-linejoin:miter;stroke-width:0.8;\"/>\r\n   </g>\r\n   <g id=\"patch_4\">\r\n    <path d=\"M 355.3625 235.238437 \r\nL 355.3625 17.798437 \r\n\" style=\"fill:none;stroke:#000000;stroke-linecap:square;stroke-linejoin:miter;stroke-width:0.8;\"/>\r\n   </g>\r\n   <g id=\"patch_5\">\r\n    <path d=\"M 20.5625 235.238437 \r\nL 355.3625 235.238437 \r\n\" style=\"fill:none;stroke:#000000;stroke-linecap:square;stroke-linejoin:miter;stroke-width:0.8;\"/>\r\n   </g>\r\n   <g id=\"patch_6\">\r\n    <path d=\"M 20.5625 17.798437 \r\nL 355.3625 17.798437 \r\n\" style=\"fill:none;stroke:#000000;stroke-linecap:square;stroke-linejoin:miter;stroke-width:0.8;\"/>\r\n   </g>\r\n  </g>\r\n </g>\r\n <defs>\r\n  <clipPath id=\"p6db973e674\">\r\n   <rect height=\"217.44\" width=\"334.8\" x=\"20.5625\" y=\"17.798437\"/>\r\n  </clipPath>\r\n </defs>\r\n</svg>\r\n",
      "image/png": "[encoded data removed]"
     },
     "metadata": {
      "needs_background": "light"
     }
    }
   ],
   "source": [
    "import matplotlib.pyplot as plt\n",
    "\n",
    "#Mengetahui kolom yang memiliki outliers!\n",
    "uncleaned_raw.boxplot()\n",
    "plt.show()"
   ]
  },
  {
   "source": [
    "### Case Study: Data Cleansing - Part 2"
   ],
   "cell_type": "markdown",
   "metadata": {}
  },
  {
   "cell_type": "code",
   "execution_count": 16,
   "metadata": {},
   "outputs": [
    {
     "output_type": "stream",
     "name": "stdout",
     "text": [
      "0      False\n1      False\n2      False\n3      False\n4      False\n       ...  \n500     True\n501     True\n502     True\n503     True\n504     True\nLength: 505, dtype: bool\n"
     ]
    }
   ],
   "source": [
    "#Check IQR\n",
    "Q1 = uncleaned_raw['UnitPrice'].quantile(0.25)\n",
    "Q3 = uncleaned_raw['UnitPrice'].quantile(0.75)\n",
    "IQR = Q3 - Q1\n",
    "\n",
    "#removing outliers\n",
    "uncleaned_raw = uncleaned_raw[~((uncleaned_raw[['UnitPrice']] < (Q1 - 1.5 * IQR)) | (uncleaned_raw[['UnitPrice']] > (Q3 + 1.5 * IQR)))]\n",
    "\n",
    "#check for duplication\n",
    "print(uncleaned_raw.duplicated(subset=None))\n",
    "\n",
    "#remove duplication\n",
    "uncleaned_raw = uncleaned_raw.drop_duplicates()"
   ]
  },
  {
   "cell_type": "code",
   "execution_count": null,
   "metadata": {},
   "outputs": [],
   "source": []
  }
 ]
}