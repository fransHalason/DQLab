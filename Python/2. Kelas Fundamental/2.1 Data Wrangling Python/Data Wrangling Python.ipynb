{
 "metadata": {
  "language_info": {
   "codemirror_mode": {
    "name": "ipython",
    "version": 3
   },
   "file_extension": ".py",
   "mimetype": "text/x-python",
   "name": "python",
   "nbconvert_exporter": "python",
   "pygments_lexer": "ipython3",
   "version": "3.9.5"
  },
  "orig_nbformat": 2,
  "kernelspec": {
   "name": "python3",
   "display_name": "Python 3.9.5 64-bit"
  },
  "interpreter": {
   "hash": "b839018028d7c5166b93bdc4222a30f5462b9cb20ffe1b3af6c70f0ea8ead087"
  }
 },
 "nbformat": 4,
 "nbformat_minor": 2,
 "cells": [
  {
   "source": [
    "# Data Wrangling Python"
   ],
   "cell_type": "markdown",
   "metadata": {}
  },
  {
   "source": [
    "## Cara Membaca Data Menggunakan Pandas"
   ],
   "cell_type": "markdown",
   "metadata": {}
  },
  {
   "source": [
    "### Membaca file dengan menggunakan pandas"
   ],
   "cell_type": "markdown",
   "metadata": {}
  },
  {
   "cell_type": "code",
   "execution_count": 1,
   "metadata": {},
   "outputs": [
    {
     "output_type": "stream",
     "name": "stdout",
     "text": [
      "     CustomerID   Genre  Age  Annual Income (k$)  Spending Score (1-100)\n0             1    Male   19                  15                      39\n1             2    Male   21                  15                      81\n2             3  Female   20                  16                       6\n3             4  Female   23                  16                      77\n4             5  Female   31                  17                      40\n..          ...     ...  ...                 ...                     ...\n195         196  Female   35                 120                      79\n196         197  Female   45                 126                      28\n197         198    Male   32                 126                      74\n198         199    Male   32                 137                      18\n199         200    Male   30                 137                      83\n\n[200 rows x 5 columns]\n"
     ]
    }
   ],
   "source": [
    "import pandas as pd\n",
    "\n",
    "csv_data = pd.read_csv(\"https://dqlab-dataset.s3-ap-southeast-1.amazonaws.com/shopping_data.csv\")\n",
    "\n",
    "print(csv_data)"
   ]
  },
  {
   "source": [
    "### Membaca file dengan menggunakan head()"
   ],
   "cell_type": "markdown",
   "metadata": {}
  },
  {
   "cell_type": "code",
   "execution_count": 2,
   "metadata": {},
   "outputs": [
    {
     "output_type": "stream",
     "name": "stdout",
     "text": [
      "   CustomerID   Genre  Age  Annual Income (k$)  Spending Score (1-100)\n0           1    Male   19                  15                      39\n1           2    Male   21                  15                      81\n2           3  Female   20                  16                       6\n3           4  Female   23                  16                      77\n4           5  Female   31                  17                      40\n"
     ]
    }
   ],
   "source": [
    "import pandas as pd\n",
    "\n",
    "csv_data = pd.read_csv(\"https://dqlab-dataset.s3-ap-southeast-1.amazonaws.com/shopping_data.csv\")\n",
    "\n",
    "print(csv_data.head())"
   ]
  },
  {
   "source": [
    "### Melakukan akses data kolom"
   ],
   "cell_type": "markdown",
   "metadata": {}
  },
  {
   "cell_type": "code",
   "execution_count": 3,
   "metadata": {},
   "outputs": [
    {
     "output_type": "stream",
     "name": "stdout",
     "text": [
      "Index(['CustomerID', 'Genre', 'Age', 'Annual Income (k$)',\n       'Spending Score (1-100)'],\n      dtype='object')\n"
     ]
    }
   ],
   "source": [
    "import pandas as pd\n",
    "\n",
    "csv_data = pd.read_csv(\"https://storage.googleapis.com/dqlab-dataset/shopping_data.csv\")\n",
    "\n",
    "print(csv_data.columns)"
   ]
  },
  {
   "cell_type": "code",
   "execution_count": 4,
   "metadata": {},
   "outputs": [
    {
     "output_type": "stream",
     "name": "stdout",
     "text": [
      "0      19\n1      21\n2      20\n3      23\n4      31\n       ..\n195    35\n196    45\n197    32\n198    32\n199    30\nName: Age, Length: 200, dtype: int64\n"
     ]
    }
   ],
   "source": [
    "import pandas as pd\n",
    "\n",
    "csv_data = pd.read_csv(\"https://storage.googleapis.com/dqlab-dataset/shopping_data.csv\")\n",
    "\n",
    "print(csv_data['Age'])"
   ]
  },
  {
   "source": [
    "### Melakukan akses data melalui baris"
   ],
   "cell_type": "markdown",
   "metadata": {}
  },
  {
   "cell_type": "code",
   "execution_count": null,
   "metadata": {},
   "outputs": [],
   "source": []
  },
  {
   "cell_type": "code",
   "execution_count": 5,
   "metadata": {},
   "outputs": [
    {
     "output_type": "stream",
     "name": "stdout",
     "text": [
      "CustomerID                     6\nGenre                     Female\nAge                           22\nAnnual Income (k$)            17\nSpending Score (1-100)        76\nName: 5, dtype: object\n"
     ]
    }
   ],
   "source": [
    "import pandas as pd\n",
    "\n",
    "csv_data = pd.read_csv(\"https://dqlab-dataset.s3-ap-southeast-1.amazonaws.com/shopping_data.csv\")\n",
    "\n",
    "print(csv_data.iloc[5])"
   ]
  },
  {
   "source": [
    "### Menampilkan suatu data dari baris dan kolom tertentu"
   ],
   "cell_type": "markdown",
   "metadata": {}
  },
  {
   "cell_type": "code",
   "execution_count": 6,
   "metadata": {},
   "outputs": [
    {
     "output_type": "stream",
     "name": "stdout",
     "text": [
      "21\nCuplikan Dataset:\n   CustomerID   Genre  Age  Annual Income (k$)  Spending Score (1-100)\n0           1    Male   19                  15                      39\n1           2    Male   21                  15                      81\n2           3  Female   20                  16                       6\n3           4  Female   23                  16                      77\n4           5  Female   31                  17                      40\n"
     ]
    }
   ],
   "source": [
    "import pandas as pd\n",
    "\n",
    "csv_data = pd.read_csv(\"https://dqlab-dataset.s3-ap-southeast-1.amazonaws.com/shopping_data.csv\")\n",
    "\n",
    "print(csv_data['Age'].iloc[1])\n",
    "\n",
    "print(\"Cuplikan Dataset:\")\n",
    "\n",
    "print(csv_data.head())\t\t\t\t"
   ]
  },
  {
   "source": [
    "### Menampilkan data dalam range tertentu"
   ],
   "cell_type": "markdown",
   "metadata": {}
  },
  {
   "cell_type": "code",
   "execution_count": 7,
   "metadata": {},
   "outputs": [
    {
     "output_type": "stream",
     "name": "stdout",
     "text": [
      "Menampilkan data ke 5 sampai kurang dari 10:\n5    22\n6    35\n7    23\n8    64\n9    30\nName: Age, dtype: int64\n"
     ]
    }
   ],
   "source": [
    "import pandas as pd\n",
    "\n",
    "csv_data = pd.read_csv(\"https://storage.googleapis.com/dqlab-dataset/shopping_data.csv\")\n",
    "\n",
    "print(\"Menampilkan data ke 5 sampai kurang dari 10:\")\n",
    "\n",
    "print(csv_data['Age'].iloc[5:10])"
   ]
  },
  {
   "cell_type": "code",
   "execution_count": 8,
   "metadata": {},
   "outputs": [
    {
     "output_type": "stream",
     "name": "stdout",
     "text": [
      "Menampilkan data ke 5 sampai kurang dari 10 dalam satu baris:\n   CustomerID   Genre  Age  Annual Income (k$)  Spending Score (1-100)\n5           6  Female   22                  17                      76\n6           7  Female   35                  18                       6\n7           8  Female   23                  18                      94\n8           9    Male   64                  19                       3\n9          10  Female   30                  19                      72\n"
     ]
    }
   ],
   "source": [
    "import pandas as pd\n",
    "\n",
    "csv_data = pd.read_csv(\"https://storage.googleapis.com/dqlab-dataset/shopping_data.csv\")\n",
    "\n",
    "print(\"Menampilkan data ke 5 sampai kurang dari 10 dalam satu baris:\")\n",
    "\n",
    "print(csv_data.iloc[5:10])"
   ]
  },
  {
   "source": [
    "### Menampilkan informasi statistik dengan Numpy"
   ],
   "cell_type": "markdown",
   "metadata": {}
  },
  {
   "cell_type": "code",
   "execution_count": 9,
   "metadata": {},
   "outputs": [
    {
     "output_type": "stream",
     "name": "stdout",
     "text": [
      "        CustomerID   Genre         Age  Annual Income (k$)  \\\ncount   200.000000     200  200.000000          200.000000   \nunique         NaN       2         NaN                 NaN   \ntop            NaN  Female         NaN                 NaN   \nfreq           NaN     112         NaN                 NaN   \nmean    100.500000     NaN   38.850000           60.560000   \nstd      57.879185     NaN   13.969007           26.264721   \nmin       1.000000     NaN   18.000000           15.000000   \n25%      50.750000     NaN   28.750000           41.500000   \n50%     100.500000     NaN   36.000000           61.500000   \n75%     150.250000     NaN   49.000000           78.000000   \nmax     200.000000     NaN   70.000000          137.000000   \n\n        Spending Score (1-100)  \ncount               200.000000  \nunique                     NaN  \ntop                        NaN  \nfreq                       NaN  \nmean                 50.200000  \nstd                  25.823522  \nmin                   1.000000  \n25%                  34.750000  \n50%                  50.000000  \n75%                  73.000000  \nmax                  99.000000  \n"
     ]
    }
   ],
   "source": [
    "import pandas as pd\n",
    "\n",
    "csv_data = pd.read_csv(\"https://storage.googleapis.com/dqlab-dataset/shopping_data.csv\")\n",
    "\n",
    "print(csv_data.describe(include='all'))"
   ]
  },
  {
   "cell_type": "code",
   "execution_count": 10,
   "metadata": {},
   "outputs": [
    {
     "output_type": "stream",
     "name": "stdout",
     "text": [
      "       CustomerID         Age  Annual Income (k$)  Spending Score (1-100)\ncount  200.000000  200.000000          200.000000              200.000000\nmean   100.500000   38.850000           60.560000               50.200000\nstd     57.879185   13.969007           26.264721               25.823522\nmin      1.000000   18.000000           15.000000                1.000000\n25%     50.750000   28.750000           41.500000               34.750000\n50%    100.500000   36.000000           61.500000               50.000000\n75%    150.250000   49.000000           78.000000               73.000000\nmax    200.000000   70.000000          137.000000               99.000000\n"
     ]
    }
   ],
   "source": [
    "import pandas as pd\n",
    "\n",
    "csv_data = pd.read_csv(\"https://storage.googleapis.com/dqlab-dataset/shopping_data.csv\")\n",
    "\n",
    "print(csv_data.describe(exclude=['O']))"
   ]
  },
  {
   "source": [
    "## Data Missing Hingga Normalisasi Data"
   ],
   "cell_type": "markdown",
   "metadata": {}
  },
  {
   "source": [
    "### Melakukan pengecekan untuk nilai NULL yang ada"
   ],
   "cell_type": "markdown",
   "metadata": {}
  },
  {
   "cell_type": "code",
   "execution_count": 11,
   "metadata": {},
   "outputs": [
    {
     "output_type": "stream",
     "name": "stdout",
     "text": [
      "False\n"
     ]
    }
   ],
   "source": [
    "import pandas as pd\n",
    "\n",
    "csv_data = pd.read_csv(\"https://storage.googleapis.com/dqlab-dataset/shopping_data.csv\")\n",
    "\n",
    "print(csv_data.isnull().values.any())"
   ]
  },
  {
   "cell_type": "code",
   "execution_count": 12,
   "metadata": {},
   "outputs": [
    {
     "output_type": "stream",
     "name": "stdout",
     "text": [
      "True\n"
     ]
    }
   ],
   "source": [
    "import pandas as pd\n",
    "\n",
    "csv_data = pd.read_csv(\"https://storage.googleapis.com/dqlab-dataset/shopping_data_missingvalue.csv\")\n",
    "\n",
    "print(csv_data.isnull().values.any())"
   ]
  },
  {
   "source": [
    "### Mengisi dengan Mean"
   ],
   "cell_type": "markdown",
   "metadata": {}
  },
  {
   "cell_type": "code",
   "execution_count": 13,
   "metadata": {},
   "outputs": [
    {
     "output_type": "stream",
     "name": "stdout",
     "text": [
      "CustomerID                100.500000\nAge                        38.939698\nAnnual Income (k$)         61.005051\nSpending Score (1-100)     50.489899\ndtype: float64\n"
     ]
    }
   ],
   "source": [
    "import pandas as pd\n",
    "\n",
    "csv_data = pd.read_csv(\"https://storage.googleapis.com/dqlab-dataset/shopping_data_missingvalue.csv\")\n",
    "\n",
    "print(csv_data.mean())"
   ]
  },
  {
   "cell_type": "code",
   "execution_count": 14,
   "metadata": {},
   "outputs": [
    {
     "output_type": "stream",
     "name": "stdout",
     "text": [
      "CustomerID                100.500000\nAge                        38.939698\nAnnual Income (k$)         61.005051\nSpending Score (1-100)     50.489899\ndtype: float64\nDataset yang masih terdapat nilai kosong ! :\n   CustomerID   Genre   Age  Annual Income (k$)  Spending Score (1-100)\n0           1    Male  19.0                15.0                    39.0\n1           2    Male   NaN                15.0                    81.0\n2           3  Female  20.0                 NaN                     6.0\n3           4  Female  23.0                16.0                    77.0\n4           5  Female  31.0                17.0                     NaN\n5           6  Female  22.0                 NaN                    76.0\n6           7  Female  35.0                18.0                     6.0\n7           8  Female  23.0                18.0                    94.0\n8           9    Male  64.0                19.0                     NaN\n9          10  Female  30.0                19.0                    72.0\nDataset yang sudah diproses Handling Missing Values dengan Mean :\n   CustomerID   Genre        Age  Annual Income (k$)  Spending Score (1-100)\n0           1    Male  19.000000           15.000000               39.000000\n1           2    Male  38.939698           15.000000               81.000000\n2           3  Female  20.000000           61.005051                6.000000\n3           4  Female  23.000000           16.000000               77.000000\n4           5  Female  31.000000           17.000000               50.489899\n5           6  Female  22.000000           61.005051               76.000000\n6           7  Female  35.000000           18.000000                6.000000\n7           8  Female  23.000000           18.000000               94.000000\n8           9    Male  64.000000           19.000000               50.489899\n9          10  Female  30.000000           19.000000               72.000000\n"
     ]
    }
   ],
   "source": [
    "import pandas as pd\n",
    "\n",
    "csv_data = pd.read_csv(\"https://storage.googleapis.com/dqlab-dataset/shopping_data_missingvalue.csv\")\n",
    "print(csv_data.mean())\n",
    "print(\"Dataset yang masih terdapat nilai kosong ! :\")\n",
    "print(csv_data.head(10))\n",
    "\n",
    "csv_data=csv_data.fillna(csv_data.mean())\n",
    "print(\"Dataset yang sudah diproses Handling Missing Values dengan Mean :\")\n",
    "print(csv_data.head(10))"
   ]
  },
  {
   "source": [
    "### Mengisi dengan Median"
   ],
   "cell_type": "markdown",
   "metadata": {}
  },
  {
   "cell_type": "code",
   "execution_count": 15,
   "metadata": {},
   "outputs": [
    {
     "output_type": "stream",
     "name": "stdout",
     "text": [
      "CustomerID                100.5\nAge                        36.0\nAnnual Income (k$)         62.0\nSpending Score (1-100)     50.0\ndtype: float64\n"
     ]
    }
   ],
   "source": [
    "import pandas as pd\n",
    "\n",
    "csv_data = pd.read_csv(\"https://storage.googleapis.com/dqlab-dataset/shopping_data_missingvalue.csv\")\n",
    "\n",
    "print(csv_data.median())"
   ]
  },
  {
   "cell_type": "code",
   "execution_count": 16,
   "metadata": {},
   "outputs": [
    {
     "output_type": "stream",
     "name": "stdout",
     "text": [
      "Dataset yang masih terdapat nilai kosong ! :\n   CustomerID   Genre   Age  Annual Income (k$)  Spending Score (1-100)\n0           1    Male  19.0                15.0                    39.0\n1           2    Male   NaN                15.0                    81.0\n2           3  Female  20.0                 NaN                     6.0\n3           4  Female  23.0                16.0                    77.0\n4           5  Female  31.0                17.0                     NaN\n5           6  Female  22.0                 NaN                    76.0\n6           7  Female  35.0                18.0                     6.0\n7           8  Female  23.0                18.0                    94.0\n8           9    Male  64.0                19.0                     NaN\n9          10  Female  30.0                19.0                    72.0\nDataset yang sudah diproses Handling Missing Values dengan Median :\n   CustomerID   Genre   Age  Annual Income (k$)  Spending Score (1-100)\n0           1    Male  19.0                15.0                    39.0\n1           2    Male  36.0                15.0                    81.0\n2           3  Female  20.0                62.0                     6.0\n3           4  Female  23.0                16.0                    77.0\n4           5  Female  31.0                17.0                    50.0\n5           6  Female  22.0                62.0                    76.0\n6           7  Female  35.0                18.0                     6.0\n7           8  Female  23.0                18.0                    94.0\n8           9    Male  64.0                19.0                    50.0\n9          10  Female  30.0                19.0                    72.0\n"
     ]
    }
   ],
   "source": [
    "import pandas as pd\n",
    "\n",
    "csv_data = pd.read_csv(\"https://storage.googleapis.com/dqlab-dataset/shopping_data_missingvalue.csv\")\n",
    "print(\"Dataset yang masih terdapat nilai kosong ! :\")\n",
    "print(csv_data.head(10))\n",
    "\n",
    "csv_data=csv_data.fillna(csv_data.median())\n",
    "print(\"Dataset yang sudah diproses Handling Missing Values dengan Median :\")\n",
    "print(csv_data.head(10))"
   ]
  },
  {
   "source": [
    "### Praktek Normalisasi menggunakan Scikit Learn pada Python"
   ],
   "cell_type": "markdown",
   "metadata": {}
  },
  {
   "cell_type": "code",
   "execution_count": 17,
   "metadata": {},
   "outputs": [],
   "source": [
    "import pandas as pd\n",
    "import numpy as np\n",
    "from sklearn import preprocessing\n",
    "\n",
    "csv_data = pd.read_csv(\"https://storage.googleapis.com/dqlab-dataset/shopping_data.csv\")\n",
    "array = csv_data.values"
   ]
  },
  {
   "cell_type": "code",
   "execution_count": 18,
   "metadata": {},
   "outputs": [
    {
     "output_type": "stream",
     "name": "stdout",
     "text": [
      "dataset sebelum dinormalisasi :\n  Customer ID  Gender Age Income Spending Score\n0           1    Male  19     15             39\n1           2    Male  21     15             81\n2           3  Female  20     16              6\n3           4  Female  23     16             77\n4           5  Female  31     17             40\n5           6  Female  22     17             76\n6           7  Female  35     18              6\n7           8  Female  23     18             94\n8           9    Male  64     19              3\n9          10  Female  30     19             72\ndataset setelah dinormalisasi :\n        Age    Income  Spending Score Customer ID  Gender\n0  0.019231  0.000000        0.387755           1    Male\n1  0.057692  0.000000        0.816327           2    Male\n2  0.038462  0.008197        0.051020           3  Female\n3  0.096154  0.008197        0.775510           4  Female\n4  0.250000  0.016393        0.397959           5  Female\n5  0.076923  0.016393        0.765306           6  Female\n6  0.326923  0.024590        0.051020           7  Female\n7  0.096154  0.024590        0.948980           8  Female\n8  0.884615  0.032787        0.020408           9    Male\n9  0.230769  0.032787        0.724490          10  Female\n"
     ]
    }
   ],
   "source": [
    "X = array[:,2:5] #memisahkan fitur dari dataset. \n",
    "Y = array[:,0:1]  #memisahkan class dari dataset\n",
    "\n",
    "dataset=pd.DataFrame({'Customer ID':array[:,0],'Gender':array[:,1],'Age':array[:,2],'Income':array[:,3],'Spending Score':array[:,4]})\n",
    "print(\"dataset sebelum dinormalisasi :\")\n",
    "print(dataset.head(10))\n",
    "\n",
    "min_max_scaler = preprocessing.MinMaxScaler(feature_range=(0,1)) #inisialisasi normalisasi MinMax\n",
    "data = min_max_scaler.fit_transform(X) #transformasi MinMax untuk fitur\n",
    "dataset = pd.DataFrame({'Age':data[:,0],'Income':data[:,1],'Spending Score':data[:,2],'Customer ID':array[:,0],'Gender':array[:,1]})\n",
    "\n",
    "print(\"dataset setelah dinormalisasi :\")\n",
    "print(dataset.head(10))"
   ]
  },
  {
   "cell_type": "code",
   "execution_count": null,
   "metadata": {},
   "outputs": [],
   "source": []
  }
 ]
}