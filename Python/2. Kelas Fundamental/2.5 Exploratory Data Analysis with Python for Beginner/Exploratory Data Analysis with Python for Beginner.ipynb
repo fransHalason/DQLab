{
 "metadata": {
  "language_info": {
   "codemirror_mode": {
    "name": "ipython",
    "version": 3
   },
   "file_extension": ".py",
   "mimetype": "text/x-python",
   "name": "python",
   "nbconvert_exporter": "python",
   "pygments_lexer": "ipython3",
   "version": "3.9.4"
  },
  "orig_nbformat": 2,
  "kernelspec": {
   "name": "python394jvsc74a57bd0b839018028d7c5166b93bdc4222a30f5462b9cb20ffe1b3af6c70f0ea8ead087",
   "display_name": "Python 3.9.4 64-bit"
  }
 },
 "nbformat": 4,
 "nbformat_minor": 2,
 "cells": [
  {
   "source": [
    "# Exploratory Data Analysis with Python for Beginner"
   ],
   "cell_type": "markdown",
   "metadata": {}
  },
  {
   "source": [
    "## Pengenalan Library dalam Python"
   ],
   "cell_type": "markdown",
   "metadata": {}
  },
  {
   "source": [
    "### Memanggil Library di Python"
   ],
   "cell_type": "markdown",
   "metadata": {}
  },
  {
   "cell_type": "code",
   "execution_count": 2,
   "metadata": {},
   "outputs": [],
   "source": [
    "import numpy as np\n",
    "import pandas as pd"
   ]
  },
  {
   "cell_type": "code",
   "execution_count": 3,
   "metadata": {},
   "outputs": [],
   "source": [
    "import numpy as np\n",
    "import pandas as pd"
   ]
  },
  {
   "source": [
    "## Exploratory Data Analysis dengan Pandas - Part 1"
   ],
   "cell_type": "markdown",
   "metadata": {}
  },
  {
   "source": [
    "### Tugas Praktek"
   ],
   "cell_type": "markdown",
   "metadata": {}
  },
  {
   "cell_type": "code",
   "execution_count": 4,
   "metadata": {},
   "outputs": [],
   "source": [
    "import pandas as pd\n",
    "order_df = pd.read_csv(\"order.csv\")"
   ]
  },
  {
   "source": [
    "### Tugas Praktek"
   ],
   "cell_type": "markdown",
   "metadata": {}
  },
  {
   "cell_type": "code",
   "execution_count": 5,
   "metadata": {},
   "outputs": [
    {
     "output_type": "stream",
     "name": "stdout",
     "text": [
      "(49999, 12)\n"
     ]
    }
   ],
   "source": [
    "import pandas as pd\n",
    "order_df = pd.read_csv(\"order.csv\")\n",
    "print(order_df.shape)"
   ]
  },
  {
   "source": [
    "### Tugas Praktek"
   ],
   "cell_type": "markdown",
   "metadata": {}
  },
  {
   "cell_type": "code",
   "execution_count": 6,
   "metadata": {},
   "outputs": [
    {
     "output_type": "stream",
     "name": "stdout",
     "text": [
      "                           order_id  quantity  \\\n0  2e7a8482f6fb09756ca50c10d7bfc047         2   \n1  2e7a8482f6fb09756ca50c10d7bfc047         1   \n2  e5fa5a7210941f7d56d0208e4e071d35         1   \n3  3b697a20d9e427646d92567910af6d57         1   \n4  71303d7e93b399f5bcd537d124c0bcfa         1   \n5  be5bc2f0da14d8071e2d45451ad119d9         1   \n6  0a0837a5eee9e7a9ce2b1fa831944d27         1   \n7  1ff217aa612f6cd7c4255c9bfe931c8b         1   \n8  22613579f7d11cc59c4347526fc3c79e         1   \n9  356b492aba2d1a7da886e54e0b6212b7         1   \n\n                         product_id    price  \\\n0  f293394c72c9b5fafd7023301fc21fc2  1489000   \n1  c1488892604e4ba5cff5b4eb4d595400  1756000   \n2  f3c2d01a84c947b078e32bbef0718962  1707000   \n3  3ae08df6bcbfe23586dd431c40bddbb7  3071000   \n4  d2998d7ced12f83f9b832f33cf6507b6  3833000   \n5  fd7fd78fd3cbc1b0a6370a7909c0a629  1480000   \n6  583916a5dae918f5e89baec139141c54  4489000   \n7  33430c5c1027d812b5c62f778e5ee7f7   822000   \n8  3ff81cd0e0861e991bb0106c03c113ca  3967000   \n9  eba7488e1c67729f045ab43fac426f2e  4165000   \n\n                          seller_id  freight_value  \\\n0  1554a68530182680ad5c8b042c3ab563          28000   \n1  1554a68530182680ad5c8b042c3ab563          45000   \n2  a425f92c199eb576938df686728acd20         174000   \n3  522620dcb18a6b31cd7bdf73665113a9         154000   \n4  25e6ffe976bd75618accfe16cefcbd0d         147000   \n5  f09b760d23495ac9a7e00d29b769007c         152000   \n6  3481aa57cd91f9f9d3fa1fa12d9a3bf7          16000   \n7  4b1eaadf791bdbbad8c4a35b65236d52          58000   \n8  86bb7c4b535e49a541baf3266b1c95b1          95000   \n9  620c87c171fb2a6dd6e8bb4dec959fc6          98000   \n\n                        customer_id order_status purchase_date  \\\n0  08c5351a6aca1c1589a38f244edeee9d      shipped    2016-09-05   \n1  08c5351a6aca1c1589a38f244edeee9d      shipped    2016-09-05   \n2  683c54fc24d40ee9f8a6fc179fd9856c     canceled    2016-09-05   \n3  355077684019f7f60a031656bd7262b8    delivered    2016-10-03   \n4  b106b360fe2ef8849fbbd056f777b4d5     canceled    2016-10-03   \n5  7ec40b22510fdbea1b08921dd39e63d8    delivered    2016-10-03   \n6  4f3f778022aefa22b9f9e52d2c47edf3    delivered    2016-10-04   \n7  b3a9bf200375f53cc5c6991919c356fd    delivered    2016-10-04   \n8  53cc5d344077104b59d4f6836a90eb0b    delivered    2016-10-04   \n9  68c74d748a55f9d29e6698f4b01a0df7    delivered    2016-10-04   \n\n      payment_type product_category_name  product_weight_gram  \n0  virtual account               fashion               1800.0  \n1  virtual account            automotive               1400.0  \n2         e-wallet                  toys                700.0  \n3         e-wallet             utilities                300.0  \n4         e-wallet               fashion                500.0  \n5         e-wallet           electronics                400.0  \n6       debit card                  toys               3100.0  \n7      credit card            automotive                200.0  \n8       debit card                beauty                600.0  \n9      credit card            automotive                610.0  \n"
     ]
    }
   ],
   "source": [
    "import pandas as pd\n",
    "order_df = pd.read_csv(\"order.csv\")\n",
    "print(order_df.head(10))"
   ]
  },
  {
   "source": [
    "### Tugas Praktek"
   ],
   "cell_type": "markdown",
   "metadata": {}
  },
  {
   "cell_type": "code",
   "execution_count": 7,
   "metadata": {},
   "outputs": [
    {
     "output_type": "stream",
     "name": "stdout",
     "text": [
      "           quantity         price  freight_value  product_weight_gram\ncount  49999.000000  4.999900e+04   49999.000000         49980.000000\nmean       1.197484  2.607784e+06  104521.390428          2201.830892\nstd        0.722262  1.388312e+06   55179.844962          3929.896875\nmin        1.000000  2.000000e+05    9000.000000            50.000000\n25%        1.000000  1.410500e+06   57000.000000           300.000000\n50%        1.000000  2.610000e+06  104000.000000           800.000000\n75%        1.000000  3.810000e+06  152000.000000          1850.000000\nmax       21.000000  5.000000e+06  200000.000000         40425.000000\n2610000.0\n"
     ]
    }
   ],
   "source": [
    "import pandas as pd\n",
    "order_df = pd.read_csv(\"order.csv\")\n",
    "# Quick summary  dari segi kuantitas, harga, freight value, dan weight\n",
    "print(order_df.describe())\n",
    "# Median median dari total pembelian konsumen per transaksi kolom price\n",
    "print(order_df.loc[:, \"price\"].median())"
   ]
  },
  {
   "source": [
    "## Exploratory Data Analysis dengan Pandas - Part 2"
   ],
   "cell_type": "markdown",
   "metadata": {}
  },
  {
   "source": [
    "### Tugas Praktek"
   ],
   "cell_type": "markdown",
   "metadata": {}
  },
  {
   "cell_type": "code",
   "execution_count": 14,
   "metadata": {},
   "outputs": [
    {
     "output_type": "display_data",
     "data": {
      "text/plain": "<Figure size 288x360 with 1 Axes>",
      "image/svg+xml": "<?xml version=\"1.0\" encoding=\"utf-8\" standalone=\"no\"?>\r\n<!DOCTYPE svg PUBLIC \"-//W3C//DTD SVG 1.1//EN\"\r\n  \"http://www.w3.org/Graphics/SVG/1.1/DTD/svg11.dtd\">\r\n<svg height=\"328.73875pt\" version=\"1.1\" viewBox=\"0 0 264.96 328.73875\" width=\"264.96pt\" xmlns=\"http://www.w3.org/2000/svg\" xmlns:xlink=\"http://www.w3.org/1999/xlink\">\r\n <metadata>\r\n  <rdf:RDF xmlns:cc=\"http://creativecommons.org/ns#\" xmlns:dc=\"http://purl.org/dc/elements/1.1/\" xmlns:rdf=\"http://www.w3.org/1999/02/22-rdf-syntax-ns#\">\r\n   <cc:Work>\r\n    <dc:type rdf:resource=\"http://purl.org/dc/dcmitype/StillImage\"/>\r\n    <dc:date>2021-06-07T17:11:12.996591</dc:date>\r\n    <dc:format>image/svg+xml</dc:format>\r\n    <dc:creator>\r\n     <cc:Agent>\r\n      <dc:title>Matplotlib v3.4.1, https://matplotlib.org/</dc:title>\r\n     </cc:Agent>\r\n    </dc:creator>\r\n   </cc:Work>\r\n  </rdf:RDF>\r\n </metadata>\r\n <defs>\r\n  <style type=\"text/css\">*{stroke-linecap:butt;stroke-linejoin:round;}</style>\r\n </defs>\r\n <g id=\"figure_1\">\r\n  <g id=\"patch_1\">\r\n   <path d=\"M 0 328.73875 \r\nL 264.96 328.73875 \r\nL 264.96 0 \r\nL 0 0 \r\nz\r\n\" style=\"fill:none;\"/>\r\n  </g>\r\n  <g id=\"axes_1\">\r\n   <g id=\"patch_2\">\r\n    <path d=\"M 34.56 294.118125 \r\nL 257.76 294.118125 \r\nL 257.76 22.318125 \r\nL 34.56 22.318125 \r\nz\r\n\" style=\"fill:#ffffff;\"/>\r\n   </g>\r\n   <g id=\"patch_3\">\r\n    <path clip-path=\"url(#p32dcb419c5)\" d=\"M 44.705455 294.118125 \r\nL 64.996364 294.118125 \r\nL 64.996364 37.649338 \r\nL 44.705455 37.649338 \r\nz\r\n\" style=\"fill:#1f77b4;\"/>\r\n   </g>\r\n   <g id=\"patch_4\">\r\n    <path clip-path=\"url(#p32dcb419c5)\" d=\"M 64.996364 294.118125 \r\nL 85.287273 294.118125 \r\nL 85.287273 43.899717 \r\nL 64.996364 43.899717 \r\nz\r\n\" style=\"fill:#1f77b4;\"/>\r\n   </g>\r\n   <g id=\"patch_5\">\r\n    <path clip-path=\"url(#p32dcb419c5)\" d=\"M 85.287273 294.118125 \r\nL 105.578182 294.118125 \r\nL 105.578182 46.542153 \r\nL 85.287273 46.542153 \r\nz\r\n\" style=\"fill:#1f77b4;\"/>\r\n   </g>\r\n   <g id=\"patch_6\">\r\n    <path clip-path=\"url(#p32dcb419c5)\" d=\"M 105.578182 294.118125 \r\nL 125.869091 294.118125 \r\nL 125.869091 35.260982 \r\nL 105.578182 35.260982 \r\nz\r\n\" style=\"fill:#1f77b4;\"/>\r\n   </g>\r\n   <g id=\"patch_7\">\r\n    <path clip-path=\"url(#p32dcb419c5)\" d=\"M 125.869091 294.118125 \r\nL 146.16 294.118125 \r\nL 146.16 42.222786 \r\nL 125.869091 42.222786 \r\nz\r\n\" style=\"fill:#1f77b4;\"/>\r\n   </g>\r\n   <g id=\"patch_8\">\r\n    <path clip-path=\"url(#p32dcb419c5)\" d=\"M 146.16 294.118125 \r\nL 166.450909 294.118125 \r\nL 166.450909 42.476866 \r\nL 146.16 42.476866 \r\nz\r\n\" style=\"fill:#1f77b4;\"/>\r\n   </g>\r\n   <g id=\"patch_9\">\r\n    <path clip-path=\"url(#p32dcb419c5)\" d=\"M 166.450909 294.118125 \r\nL 186.741818 294.118125 \r\nL 186.741818 39.021373 \r\nL 166.450909 39.021373 \r\nz\r\n\" style=\"fill:#1f77b4;\"/>\r\n   </g>\r\n   <g id=\"patch_10\">\r\n    <path clip-path=\"url(#p32dcb419c5)\" d=\"M 186.741818 294.118125 \r\nL 207.032727 294.118125 \r\nL 207.032727 41.714625 \r\nL 186.741818 41.714625 \r\nz\r\n\" style=\"fill:#1f77b4;\"/>\r\n   </g>\r\n   <g id=\"patch_11\">\r\n    <path clip-path=\"url(#p32dcb419c5)\" d=\"M 207.032727 294.118125 \r\nL 227.323636 294.118125 \r\nL 227.323636 35.260982 \r\nL 207.032727 35.260982 \r\nz\r\n\" style=\"fill:#1f77b4;\"/>\r\n   </g>\r\n   <g id=\"patch_12\">\r\n    <path clip-path=\"url(#p32dcb419c5)\" d=\"M 227.323636 294.118125 \r\nL 247.614545 294.118125 \r\nL 247.614545 36.378936 \r\nL 227.323636 36.378936 \r\nz\r\n\" style=\"fill:#1f77b4;\"/>\r\n   </g>\r\n   <g id=\"matplotlib.axis_1\">\r\n    <g id=\"xtick_1\">\r\n     <g id=\"line2d_1\">\r\n      <path clip-path=\"url(#p32dcb419c5)\" d=\"M 36.250909 294.118125 \r\nL 36.250909 22.318125 \r\n\" style=\"fill:none;stroke:#b0b0b0;stroke-linecap:square;stroke-width:0.8;\"/>\r\n     </g>\r\n     <g id=\"line2d_2\">\r\n      <defs>\r\n       <path d=\"M 0 0 \r\nL 0 3.5 \r\n\" id=\"m1b39f08cc5\" style=\"stroke:#000000;stroke-width:0.8;\"/>\r\n      </defs>\r\n      <g>\r\n       <use style=\"stroke:#000000;stroke-width:0.8;\" x=\"36.250909\" xlink:href=\"#m1b39f08cc5\" y=\"294.118125\"/>\r\n      </g>\r\n     </g>\r\n     <g id=\"text_1\">\r\n      <!-- 0 -->\r\n      <g transform=\"translate(33.705909 307.196875)scale(0.08 -0.08)\">\r\n       <defs>\r\n        <path d=\"M 2034 4250 \r\nQ 1547 4250 1301 3770 \r\nQ 1056 3291 1056 2328 \r\nQ 1056 1369 1301 889 \r\nQ 1547 409 2034 409 \r\nQ 2525 409 2770 889 \r\nQ 3016 1369 3016 2328 \r\nQ 3016 3291 2770 3770 \r\nQ 2525 4250 2034 4250 \r\nz\r\nM 2034 4750 \r\nQ 2819 4750 3233 4129 \r\nQ 3647 3509 3647 2328 \r\nQ 3647 1150 3233 529 \r\nQ 2819 -91 2034 -91 \r\nQ 1250 -91 836 529 \r\nQ 422 1150 422 2328 \r\nQ 422 3509 836 4129 \r\nQ 1250 4750 2034 4750 \r\nz\r\n\" id=\"DejaVuSans-30\" transform=\"scale(0.015625)\"/>\r\n       </defs>\r\n       <use xlink:href=\"#DejaVuSans-30\"/>\r\n      </g>\r\n     </g>\r\n    </g>\r\n    <g id=\"xtick_2\">\r\n     <g id=\"line2d_3\">\r\n      <path clip-path=\"url(#p32dcb419c5)\" d=\"M 78.523636 294.118125 \r\nL 78.523636 22.318125 \r\n\" style=\"fill:none;stroke:#b0b0b0;stroke-linecap:square;stroke-width:0.8;\"/>\r\n     </g>\r\n     <g id=\"line2d_4\">\r\n      <g>\r\n       <use style=\"stroke:#000000;stroke-width:0.8;\" x=\"78.523636\" xlink:href=\"#m1b39f08cc5\" y=\"294.118125\"/>\r\n      </g>\r\n     </g>\r\n     <g id=\"text_2\">\r\n      <!-- 1 -->\r\n      <g transform=\"translate(75.978636 307.196875)scale(0.08 -0.08)\">\r\n       <defs>\r\n        <path d=\"M 794 531 \r\nL 1825 531 \r\nL 1825 4091 \r\nL 703 3866 \r\nL 703 4441 \r\nL 1819 4666 \r\nL 2450 4666 \r\nL 2450 531 \r\nL 3481 531 \r\nL 3481 0 \r\nL 794 0 \r\nL 794 531 \r\nz\r\n\" id=\"DejaVuSans-31\" transform=\"scale(0.015625)\"/>\r\n       </defs>\r\n       <use xlink:href=\"#DejaVuSans-31\"/>\r\n      </g>\r\n     </g>\r\n    </g>\r\n    <g id=\"xtick_3\">\r\n     <g id=\"line2d_5\">\r\n      <path clip-path=\"url(#p32dcb419c5)\" d=\"M 120.796364 294.118125 \r\nL 120.796364 22.318125 \r\n\" style=\"fill:none;stroke:#b0b0b0;stroke-linecap:square;stroke-width:0.8;\"/>\r\n     </g>\r\n     <g id=\"line2d_6\">\r\n      <g>\r\n       <use style=\"stroke:#000000;stroke-width:0.8;\" x=\"120.796364\" xlink:href=\"#m1b39f08cc5\" y=\"294.118125\"/>\r\n      </g>\r\n     </g>\r\n     <g id=\"text_3\">\r\n      <!-- 2 -->\r\n      <g transform=\"translate(118.251364 307.196875)scale(0.08 -0.08)\">\r\n       <defs>\r\n        <path d=\"M 1228 531 \r\nL 3431 531 \r\nL 3431 0 \r\nL 469 0 \r\nL 469 531 \r\nQ 828 903 1448 1529 \r\nQ 2069 2156 2228 2338 \r\nQ 2531 2678 2651 2914 \r\nQ 2772 3150 2772 3378 \r\nQ 2772 3750 2511 3984 \r\nQ 2250 4219 1831 4219 \r\nQ 1534 4219 1204 4116 \r\nQ 875 4013 500 3803 \r\nL 500 4441 \r\nQ 881 4594 1212 4672 \r\nQ 1544 4750 1819 4750 \r\nQ 2544 4750 2975 4387 \r\nQ 3406 4025 3406 3419 \r\nQ 3406 3131 3298 2873 \r\nQ 3191 2616 2906 2266 \r\nQ 2828 2175 2409 1742 \r\nQ 1991 1309 1228 531 \r\nz\r\n\" id=\"DejaVuSans-32\" transform=\"scale(0.015625)\"/>\r\n       </defs>\r\n       <use xlink:href=\"#DejaVuSans-32\"/>\r\n      </g>\r\n     </g>\r\n    </g>\r\n    <g id=\"xtick_4\">\r\n     <g id=\"line2d_7\">\r\n      <path clip-path=\"url(#p32dcb419c5)\" d=\"M 163.069091 294.118125 \r\nL 163.069091 22.318125 \r\n\" style=\"fill:none;stroke:#b0b0b0;stroke-linecap:square;stroke-width:0.8;\"/>\r\n     </g>\r\n     <g id=\"line2d_8\">\r\n      <g>\r\n       <use style=\"stroke:#000000;stroke-width:0.8;\" x=\"163.069091\" xlink:href=\"#m1b39f08cc5\" y=\"294.118125\"/>\r\n      </g>\r\n     </g>\r\n     <g id=\"text_4\">\r\n      <!-- 3 -->\r\n      <g transform=\"translate(160.524091 307.196875)scale(0.08 -0.08)\">\r\n       <defs>\r\n        <path d=\"M 2597 2516 \r\nQ 3050 2419 3304 2112 \r\nQ 3559 1806 3559 1356 \r\nQ 3559 666 3084 287 \r\nQ 2609 -91 1734 -91 \r\nQ 1441 -91 1130 -33 \r\nQ 819 25 488 141 \r\nL 488 750 \r\nQ 750 597 1062 519 \r\nQ 1375 441 1716 441 \r\nQ 2309 441 2620 675 \r\nQ 2931 909 2931 1356 \r\nQ 2931 1769 2642 2001 \r\nQ 2353 2234 1838 2234 \r\nL 1294 2234 \r\nL 1294 2753 \r\nL 1863 2753 \r\nQ 2328 2753 2575 2939 \r\nQ 2822 3125 2822 3475 \r\nQ 2822 3834 2567 4026 \r\nQ 2313 4219 1838 4219 \r\nQ 1578 4219 1281 4162 \r\nQ 984 4106 628 3988 \r\nL 628 4550 \r\nQ 988 4650 1302 4700 \r\nQ 1616 4750 1894 4750 \r\nQ 2613 4750 3031 4423 \r\nQ 3450 4097 3450 3541 \r\nQ 3450 3153 3228 2886 \r\nQ 3006 2619 2597 2516 \r\nz\r\n\" id=\"DejaVuSans-33\" transform=\"scale(0.015625)\"/>\r\n       </defs>\r\n       <use xlink:href=\"#DejaVuSans-33\"/>\r\n      </g>\r\n     </g>\r\n    </g>\r\n    <g id=\"xtick_5\">\r\n     <g id=\"line2d_9\">\r\n      <path clip-path=\"url(#p32dcb419c5)\" d=\"M 205.341818 294.118125 \r\nL 205.341818 22.318125 \r\n\" style=\"fill:none;stroke:#b0b0b0;stroke-linecap:square;stroke-width:0.8;\"/>\r\n     </g>\r\n     <g id=\"line2d_10\">\r\n      <g>\r\n       <use style=\"stroke:#000000;stroke-width:0.8;\" x=\"205.341818\" xlink:href=\"#m1b39f08cc5\" y=\"294.118125\"/>\r\n      </g>\r\n     </g>\r\n     <g id=\"text_5\">\r\n      <!-- 4 -->\r\n      <g transform=\"translate(202.796818 307.196875)scale(0.08 -0.08)\">\r\n       <defs>\r\n        <path d=\"M 2419 4116 \r\nL 825 1625 \r\nL 2419 1625 \r\nL 2419 4116 \r\nz\r\nM 2253 4666 \r\nL 3047 4666 \r\nL 3047 1625 \r\nL 3713 1625 \r\nL 3713 1100 \r\nL 3047 1100 \r\nL 3047 0 \r\nL 2419 0 \r\nL 2419 1100 \r\nL 313 1100 \r\nL 313 1709 \r\nL 2253 4666 \r\nz\r\n\" id=\"DejaVuSans-34\" transform=\"scale(0.015625)\"/>\r\n       </defs>\r\n       <use xlink:href=\"#DejaVuSans-34\"/>\r\n      </g>\r\n     </g>\r\n    </g>\r\n    <g id=\"xtick_6\">\r\n     <g id=\"line2d_11\">\r\n      <path clip-path=\"url(#p32dcb419c5)\" d=\"M 247.614545 294.118125 \r\nL 247.614545 22.318125 \r\n\" style=\"fill:none;stroke:#b0b0b0;stroke-linecap:square;stroke-width:0.8;\"/>\r\n     </g>\r\n     <g id=\"line2d_12\">\r\n      <g>\r\n       <use style=\"stroke:#000000;stroke-width:0.8;\" x=\"247.614545\" xlink:href=\"#m1b39f08cc5\" y=\"294.118125\"/>\r\n      </g>\r\n     </g>\r\n     <g id=\"text_6\">\r\n      <!-- 5 -->\r\n      <g transform=\"translate(245.069545 307.196875)scale(0.08 -0.08)\">\r\n       <defs>\r\n        <path d=\"M 691 4666 \r\nL 3169 4666 \r\nL 3169 4134 \r\nL 1269 4134 \r\nL 1269 2991 \r\nQ 1406 3038 1543 3061 \r\nQ 1681 3084 1819 3084 \r\nQ 2600 3084 3056 2656 \r\nQ 3513 2228 3513 1497 \r\nQ 3513 744 3044 326 \r\nQ 2575 -91 1722 -91 \r\nQ 1428 -91 1123 -41 \r\nQ 819 9 494 109 \r\nL 494 744 \r\nQ 775 591 1075 516 \r\nQ 1375 441 1709 441 \r\nQ 2250 441 2565 725 \r\nQ 2881 1009 2881 1497 \r\nQ 2881 1984 2565 2268 \r\nQ 2250 2553 1709 2553 \r\nQ 1456 2553 1204 2497 \r\nQ 953 2441 691 2322 \r\nL 691 4666 \r\nz\r\n\" id=\"DejaVuSans-35\" transform=\"scale(0.015625)\"/>\r\n       </defs>\r\n       <use xlink:href=\"#DejaVuSans-35\"/>\r\n      </g>\r\n     </g>\r\n    </g>\r\n    <g id=\"text_7\">\r\n     <!-- 1e6 -->\r\n     <g transform=\"translate(238.881875 319.459063)scale(0.1 -0.1)\">\r\n      <defs>\r\n       <path d=\"M 3597 1894 \r\nL 3597 1613 \r\nL 953 1613 \r\nQ 991 1019 1311 708 \r\nQ 1631 397 2203 397 \r\nQ 2534 397 2845 478 \r\nQ 3156 559 3463 722 \r\nL 3463 178 \r\nQ 3153 47 2828 -22 \r\nQ 2503 -91 2169 -91 \r\nQ 1331 -91 842 396 \r\nQ 353 884 353 1716 \r\nQ 353 2575 817 3079 \r\nQ 1281 3584 2069 3584 \r\nQ 2775 3584 3186 3129 \r\nQ 3597 2675 3597 1894 \r\nz\r\nM 3022 2063 \r\nQ 3016 2534 2758 2815 \r\nQ 2500 3097 2075 3097 \r\nQ 1594 3097 1305 2825 \r\nQ 1016 2553 972 2059 \r\nL 3022 2063 \r\nz\r\n\" id=\"DejaVuSans-65\" transform=\"scale(0.015625)\"/>\r\n       <path d=\"M 2113 2584 \r\nQ 1688 2584 1439 2293 \r\nQ 1191 2003 1191 1497 \r\nQ 1191 994 1439 701 \r\nQ 1688 409 2113 409 \r\nQ 2538 409 2786 701 \r\nQ 3034 994 3034 1497 \r\nQ 3034 2003 2786 2293 \r\nQ 2538 2584 2113 2584 \r\nz\r\nM 3366 4563 \r\nL 3366 3988 \r\nQ 3128 4100 2886 4159 \r\nQ 2644 4219 2406 4219 \r\nQ 1781 4219 1451 3797 \r\nQ 1122 3375 1075 2522 \r\nQ 1259 2794 1537 2939 \r\nQ 1816 3084 2150 3084 \r\nQ 2853 3084 3261 2657 \r\nQ 3669 2231 3669 1497 \r\nQ 3669 778 3244 343 \r\nQ 2819 -91 2113 -91 \r\nQ 1303 -91 875 529 \r\nQ 447 1150 447 2328 \r\nQ 447 3434 972 4092 \r\nQ 1497 4750 2381 4750 \r\nQ 2619 4750 2861 4703 \r\nQ 3103 4656 3366 4563 \r\nz\r\n\" id=\"DejaVuSans-36\" transform=\"scale(0.015625)\"/>\r\n      </defs>\r\n      <use xlink:href=\"#DejaVuSans-31\"/>\r\n      <use x=\"63.623047\" xlink:href=\"#DejaVuSans-65\"/>\r\n      <use x=\"125.146484\" xlink:href=\"#DejaVuSans-36\"/>\r\n     </g>\r\n    </g>\r\n   </g>\r\n   <g id=\"matplotlib.axis_2\">\r\n    <g id=\"ytick_1\">\r\n     <g id=\"line2d_13\">\r\n      <path clip-path=\"url(#p32dcb419c5)\" d=\"M 34.56 294.118125 \r\nL 257.76 294.118125 \r\n\" style=\"fill:none;stroke:#b0b0b0;stroke-linecap:square;stroke-width:0.8;\"/>\r\n     </g>\r\n     <g id=\"line2d_14\">\r\n      <defs>\r\n       <path d=\"M 0 0 \r\nL -3.5 0 \r\n\" id=\"m7f1d7bfc33\" style=\"stroke:#000000;stroke-width:0.8;\"/>\r\n      </defs>\r\n      <g>\r\n       <use style=\"stroke:#000000;stroke-width:0.8;\" x=\"34.56\" xlink:href=\"#m7f1d7bfc33\" y=\"294.118125\"/>\r\n      </g>\r\n     </g>\r\n     <g id=\"text_8\">\r\n      <!-- 0 -->\r\n      <g transform=\"translate(22.47 297.1575)scale(0.08 -0.08)\">\r\n       <use xlink:href=\"#DejaVuSans-30\"/>\r\n      </g>\r\n     </g>\r\n    </g>\r\n    <g id=\"ytick_2\">\r\n     <g id=\"line2d_15\">\r\n      <path clip-path=\"url(#p32dcb419c5)\" d=\"M 34.56 243.302039 \r\nL 257.76 243.302039 \r\n\" style=\"fill:none;stroke:#b0b0b0;stroke-linecap:square;stroke-width:0.8;\"/>\r\n     </g>\r\n     <g id=\"line2d_16\">\r\n      <g>\r\n       <use style=\"stroke:#000000;stroke-width:0.8;\" x=\"34.56\" xlink:href=\"#m7f1d7bfc33\" y=\"243.302039\"/>\r\n      </g>\r\n     </g>\r\n     <g id=\"text_9\">\r\n      <!-- 1000 -->\r\n      <g transform=\"translate(7.2 246.341414)scale(0.08 -0.08)\">\r\n       <use xlink:href=\"#DejaVuSans-31\"/>\r\n       <use x=\"63.623047\" xlink:href=\"#DejaVuSans-30\"/>\r\n       <use x=\"127.246094\" xlink:href=\"#DejaVuSans-30\"/>\r\n       <use x=\"190.869141\" xlink:href=\"#DejaVuSans-30\"/>\r\n      </g>\r\n     </g>\r\n    </g>\r\n    <g id=\"ytick_3\">\r\n     <g id=\"line2d_17\">\r\n      <path clip-path=\"url(#p32dcb419c5)\" d=\"M 34.56 192.485953 \r\nL 257.76 192.485953 \r\n\" style=\"fill:none;stroke:#b0b0b0;stroke-linecap:square;stroke-width:0.8;\"/>\r\n     </g>\r\n     <g id=\"line2d_18\">\r\n      <g>\r\n       <use style=\"stroke:#000000;stroke-width:0.8;\" x=\"34.56\" xlink:href=\"#m7f1d7bfc33\" y=\"192.485953\"/>\r\n      </g>\r\n     </g>\r\n     <g id=\"text_10\">\r\n      <!-- 2000 -->\r\n      <g transform=\"translate(7.2 195.525328)scale(0.08 -0.08)\">\r\n       <use xlink:href=\"#DejaVuSans-32\"/>\r\n       <use x=\"63.623047\" xlink:href=\"#DejaVuSans-30\"/>\r\n       <use x=\"127.246094\" xlink:href=\"#DejaVuSans-30\"/>\r\n       <use x=\"190.869141\" xlink:href=\"#DejaVuSans-30\"/>\r\n      </g>\r\n     </g>\r\n    </g>\r\n    <g id=\"ytick_4\">\r\n     <g id=\"line2d_19\">\r\n      <path clip-path=\"url(#p32dcb419c5)\" d=\"M 34.56 141.669867 \r\nL 257.76 141.669867 \r\n\" style=\"fill:none;stroke:#b0b0b0;stroke-linecap:square;stroke-width:0.8;\"/>\r\n     </g>\r\n     <g id=\"line2d_20\">\r\n      <g>\r\n       <use style=\"stroke:#000000;stroke-width:0.8;\" x=\"34.56\" xlink:href=\"#m7f1d7bfc33\" y=\"141.669867\"/>\r\n      </g>\r\n     </g>\r\n     <g id=\"text_11\">\r\n      <!-- 3000 -->\r\n      <g transform=\"translate(7.2 144.709242)scale(0.08 -0.08)\">\r\n       <use xlink:href=\"#DejaVuSans-33\"/>\r\n       <use x=\"63.623047\" xlink:href=\"#DejaVuSans-30\"/>\r\n       <use x=\"127.246094\" xlink:href=\"#DejaVuSans-30\"/>\r\n       <use x=\"190.869141\" xlink:href=\"#DejaVuSans-30\"/>\r\n      </g>\r\n     </g>\r\n    </g>\r\n    <g id=\"ytick_5\">\r\n     <g id=\"line2d_21\">\r\n      <path clip-path=\"url(#p32dcb419c5)\" d=\"M 34.56 90.85378 \r\nL 257.76 90.85378 \r\n\" style=\"fill:none;stroke:#b0b0b0;stroke-linecap:square;stroke-width:0.8;\"/>\r\n     </g>\r\n     <g id=\"line2d_22\">\r\n      <g>\r\n       <use style=\"stroke:#000000;stroke-width:0.8;\" x=\"34.56\" xlink:href=\"#m7f1d7bfc33\" y=\"90.85378\"/>\r\n      </g>\r\n     </g>\r\n     <g id=\"text_12\">\r\n      <!-- 4000 -->\r\n      <g transform=\"translate(7.2 93.893155)scale(0.08 -0.08)\">\r\n       <use xlink:href=\"#DejaVuSans-34\"/>\r\n       <use x=\"63.623047\" xlink:href=\"#DejaVuSans-30\"/>\r\n       <use x=\"127.246094\" xlink:href=\"#DejaVuSans-30\"/>\r\n       <use x=\"190.869141\" xlink:href=\"#DejaVuSans-30\"/>\r\n      </g>\r\n     </g>\r\n    </g>\r\n    <g id=\"ytick_6\">\r\n     <g id=\"line2d_23\">\r\n      <path clip-path=\"url(#p32dcb419c5)\" d=\"M 34.56 40.037694 \r\nL 257.76 40.037694 \r\n\" style=\"fill:none;stroke:#b0b0b0;stroke-linecap:square;stroke-width:0.8;\"/>\r\n     </g>\r\n     <g id=\"line2d_24\">\r\n      <g>\r\n       <use style=\"stroke:#000000;stroke-width:0.8;\" x=\"34.56\" xlink:href=\"#m7f1d7bfc33\" y=\"40.037694\"/>\r\n      </g>\r\n     </g>\r\n     <g id=\"text_13\">\r\n      <!-- 5000 -->\r\n      <g transform=\"translate(7.2 43.077069)scale(0.08 -0.08)\">\r\n       <use xlink:href=\"#DejaVuSans-35\"/>\r\n       <use x=\"63.623047\" xlink:href=\"#DejaVuSans-30\"/>\r\n       <use x=\"127.246094\" xlink:href=\"#DejaVuSans-30\"/>\r\n       <use x=\"190.869141\" xlink:href=\"#DejaVuSans-30\"/>\r\n      </g>\r\n     </g>\r\n    </g>\r\n   </g>\r\n   <g id=\"patch_13\">\r\n    <path d=\"M 34.56 294.118125 \r\nL 34.56 22.318125 \r\n\" style=\"fill:none;stroke:#000000;stroke-linecap:square;stroke-linejoin:miter;stroke-width:0.8;\"/>\r\n   </g>\r\n   <g id=\"patch_14\">\r\n    <path d=\"M 257.76 294.118125 \r\nL 257.76 22.318125 \r\n\" style=\"fill:none;stroke:#000000;stroke-linecap:square;stroke-linejoin:miter;stroke-width:0.8;\"/>\r\n   </g>\r\n   <g id=\"patch_15\">\r\n    <path d=\"M 34.56 294.118125 \r\nL 257.76 294.118125 \r\n\" style=\"fill:none;stroke:#000000;stroke-linecap:square;stroke-linejoin:miter;stroke-width:0.8;\"/>\r\n   </g>\r\n   <g id=\"patch_16\">\r\n    <path d=\"M 34.56 22.318125 \r\nL 257.76 22.318125 \r\n\" style=\"fill:none;stroke:#000000;stroke-linecap:square;stroke-linejoin:miter;stroke-width:0.8;\"/>\r\n   </g>\r\n   <g id=\"text_14\">\r\n    <!-- price -->\r\n    <g transform=\"translate(131.226562 16.318125)scale(0.12 -0.12)\">\r\n     <defs>\r\n      <path d=\"M 1159 525 \r\nL 1159 -1331 \r\nL 581 -1331 \r\nL 581 3500 \r\nL 1159 3500 \r\nL 1159 2969 \r\nQ 1341 3281 1617 3432 \r\nQ 1894 3584 2278 3584 \r\nQ 2916 3584 3314 3078 \r\nQ 3713 2572 3713 1747 \r\nQ 3713 922 3314 415 \r\nQ 2916 -91 2278 -91 \r\nQ 1894 -91 1617 61 \r\nQ 1341 213 1159 525 \r\nz\r\nM 3116 1747 \r\nQ 3116 2381 2855 2742 \r\nQ 2594 3103 2138 3103 \r\nQ 1681 3103 1420 2742 \r\nQ 1159 2381 1159 1747 \r\nQ 1159 1113 1420 752 \r\nQ 1681 391 2138 391 \r\nQ 2594 391 2855 752 \r\nQ 3116 1113 3116 1747 \r\nz\r\n\" id=\"DejaVuSans-70\" transform=\"scale(0.015625)\"/>\r\n      <path d=\"M 2631 2963 \r\nQ 2534 3019 2420 3045 \r\nQ 2306 3072 2169 3072 \r\nQ 1681 3072 1420 2755 \r\nQ 1159 2438 1159 1844 \r\nL 1159 0 \r\nL 581 0 \r\nL 581 3500 \r\nL 1159 3500 \r\nL 1159 2956 \r\nQ 1341 3275 1631 3429 \r\nQ 1922 3584 2338 3584 \r\nQ 2397 3584 2469 3576 \r\nQ 2541 3569 2628 3553 \r\nL 2631 2963 \r\nz\r\n\" id=\"DejaVuSans-72\" transform=\"scale(0.015625)\"/>\r\n      <path d=\"M 603 3500 \r\nL 1178 3500 \r\nL 1178 0 \r\nL 603 0 \r\nL 603 3500 \r\nz\r\nM 603 4863 \r\nL 1178 4863 \r\nL 1178 4134 \r\nL 603 4134 \r\nL 603 4863 \r\nz\r\n\" id=\"DejaVuSans-69\" transform=\"scale(0.015625)\"/>\r\n      <path d=\"M 3122 3366 \r\nL 3122 2828 \r\nQ 2878 2963 2633 3030 \r\nQ 2388 3097 2138 3097 \r\nQ 1578 3097 1268 2742 \r\nQ 959 2388 959 1747 \r\nQ 959 1106 1268 751 \r\nQ 1578 397 2138 397 \r\nQ 2388 397 2633 464 \r\nQ 2878 531 3122 666 \r\nL 3122 134 \r\nQ 2881 22 2623 -34 \r\nQ 2366 -91 2075 -91 \r\nQ 1284 -91 818 406 \r\nQ 353 903 353 1747 \r\nQ 353 2603 823 3093 \r\nQ 1294 3584 2113 3584 \r\nQ 2378 3584 2631 3529 \r\nQ 2884 3475 3122 3366 \r\nz\r\n\" id=\"DejaVuSans-63\" transform=\"scale(0.015625)\"/>\r\n     </defs>\r\n     <use xlink:href=\"#DejaVuSans-70\"/>\r\n     <use x=\"63.476562\" xlink:href=\"#DejaVuSans-72\"/>\r\n     <use x=\"104.589844\" xlink:href=\"#DejaVuSans-69\"/>\r\n     <use x=\"132.373047\" xlink:href=\"#DejaVuSans-63\"/>\r\n     <use x=\"187.353516\" xlink:href=\"#DejaVuSans-65\"/>\r\n    </g>\r\n   </g>\r\n  </g>\r\n </g>\r\n <defs>\r\n  <clipPath id=\"p32dcb419c5\">\r\n   <rect height=\"271.8\" width=\"223.2\" x=\"34.56\" y=\"22.318125\"/>\r\n  </clipPath>\r\n </defs>\r\n</svg>\r\n",
      "image/png": "[encoded data removed]"
     },
     "metadata": {
      "needs_background": "light"
     }
    }
   ],
   "source": [
    "import pandas as pd\n",
    "import matplotlib.pyplot as plt\n",
    "order_df = pd.read_csv(\"order.csv\")\n",
    "# plot histogram kolom: price\n",
    "order_df[[\"price\"]].hist(figsize=(4, 5), bins=10, xlabelsize=8, ylabelsize=8)\n",
    "plt.show()  # Untuk menampilkan histogram plot"
   ]
  },
  {
   "source": [
    "### Tugas Praktek"
   ],
   "cell_type": "markdown",
   "metadata": {}
  },
  {
   "cell_type": "code",
   "execution_count": 13,
   "metadata": {},
   "outputs": [
    {
     "output_type": "execute_result",
     "data": {
      "text/plain": [
       "15444089.451063491"
      ]
     },
     "metadata": {},
     "execution_count": 13
    }
   ],
   "source": [
    "import pandas as pd\n",
    "order_df = pd.read_csv(\"https://dqlab-dataset.s3-ap-southeast-1.amazonaws.com/order.csv\")\n",
    "# Standar variasi kolom product_weight_gram\n",
    "order_df.loc[:, \"product_weight_gram\"].std()\n",
    "# Varians kolom product_weight_gram\n",
    "order_df.loc[:, \"product_weight_gram\"].var()"
   ]
  },
  {
   "source": [
    "### Tugas Praktek"
   ],
   "cell_type": "markdown",
   "metadata": {}
  },
  {
   "source": [
    "import pandas as pd\n",
    "order_df = pd.read_csv(\"https://dqlab-dataset.s3-ap-southeast-1.amazonaws.com/order.csv\")\n",
    "# Hitung quartile 1\n",
    "Q1 = order_df[[\"product_weight_gram\"]].quantile(0.25)\n",
    "# Hitung quartile 3\n",
    "Q3 = order_df[[\"product_weight_gram\"]].quantile(0.75)\n",
    "# Hitung inter quartile range dan cetak ke console\n",
    "IQR = Q3 - Q1\n",
    "print(IQR)"
   ],
   "cell_type": "code",
   "metadata": {},
   "execution_count": 12,
   "outputs": [
    {
     "output_type": "stream",
     "name": "stdout",
     "text": [
      "product_weight_gram    1550.0\ndtype: float64\n"
     ]
    }
   ]
  },
  {
   "source": [
    "### Tugas Praktek"
   ],
   "cell_type": "markdown",
   "metadata": {}
  },
  {
   "source": [
    "import pandas as pd\n",
    "order_df = pd.read_csv(\"https://dqlab-dataset.s3-ap-southeast-1.amazonaws.com/order.csv\")\n",
    "# Ganti nama kolom freight_value menjadi shipping_cost\n",
    "order_df.rename(columns={\"freight_value\": \"shipping_cost\"}, inplace=True)\n",
    "print(order_df)"
   ],
   "cell_type": "code",
   "metadata": {},
   "execution_count": 11,
   "outputs": [
    {
     "output_type": "stream",
     "name": "stdout",
     "text": [
      "                               order_id  quantity  \\\n0      2e7a8482f6fb09756ca50c10d7bfc047         2   \n1      2e7a8482f6fb09756ca50c10d7bfc047         1   \n2      e5fa5a7210941f7d56d0208e4e071d35         1   \n3      3b697a20d9e427646d92567910af6d57         1   \n4      71303d7e93b399f5bcd537d124c0bcfa         1   \n...                                 ...       ...   \n49994  ec88157ad03aa203c3fdfe7bace5ab6b         1   \n49995  ed60085e92e2aa3debf49159deb34da7         1   \n49996  ed98c37d860890f940e2acd83629fdd1         2   \n49997  ed98c37d860890f940e2acd83629fdd1         1   \n49998  ede4ebbb6e36cbd377eabcc7f5229575         1   \n\n                             product_id    price  \\\n0      f293394c72c9b5fafd7023301fc21fc2  1489000   \n1      c1488892604e4ba5cff5b4eb4d595400  1756000   \n2      f3c2d01a84c947b078e32bbef0718962  1707000   \n3      3ae08df6bcbfe23586dd431c40bddbb7  3071000   \n4      d2998d7ced12f83f9b832f33cf6507b6  3833000   \n...                                 ...      ...   \n49994  165f86fe8b799a708a20ee4ba125c289  3077000   \n49995  6e835aea84ae8eb68b8c14878dd43b30  1277000   \n49996  aca2eb7d00ea1a7b8ebd4e68314663af   486000   \n49997  aca2eb7d00ea1a7b8ebd4e68314663af   830000   \n49998  2b0ee2d07306f7c9ac55a43166e9bb4b   215000   \n\n                              seller_id  shipping_cost  \\\n0      1554a68530182680ad5c8b042c3ab563          28000   \n1      1554a68530182680ad5c8b042c3ab563          45000   \n2      a425f92c199eb576938df686728acd20         174000   \n3      522620dcb18a6b31cd7bdf73665113a9         154000   \n4      25e6ffe976bd75618accfe16cefcbd0d         147000   \n...                                 ...            ...   \n49994  7ddcbb64b5bc1ef36ca8c151f6ec77df         172000   \n49995  4d6d651bd7684af3fffabd5f08d12e5a         130000   \n49996  955fee9216a65b617aa5c0531780ce60          14000   \n49997  955fee9216a65b617aa5c0531780ce60         108000   \n49998  1900267e848ceeba8fa32d80c1a5f5a8         189000   \n\n                            customer_id order_status purchase_date  \\\n0      08c5351a6aca1c1589a38f244edeee9d      shipped    2016-09-05   \n1      08c5351a6aca1c1589a38f244edeee9d      shipped    2016-09-05   \n2      683c54fc24d40ee9f8a6fc179fd9856c     canceled    2016-09-05   \n3      355077684019f7f60a031656bd7262b8    delivered    2016-10-03   \n4      b106b360fe2ef8849fbbd056f777b4d5     canceled    2016-10-03   \n...                                 ...          ...           ...   \n49994  1642b8087a8ca0c8592becff7e183c98    delivered    2017-12-15   \n49995  431bbb57d52f3141ab2f33a6a4cf00a6    delivered    2017-12-15   \n49996  71f8cd490677ee95362201588c0eaff4    delivered    2017-12-15   \n49997  71f8cd490677ee95362201588c0eaff4    delivered    2017-12-15   \n49998  60d2d93a97ec1ad751f2ddce9249ba2a    delivered    2017-12-15   \n\n          payment_type product_category_name  product_weight_gram  \n0      virtual account               fashion               1800.0  \n1      virtual account            automotive               1400.0  \n2             e-wallet                  toys                700.0  \n3             e-wallet             utilities                300.0  \n4             e-wallet               fashion                500.0  \n...                ...                   ...                  ...  \n49994         e-wallet            automotive               2425.0  \n49995       debit card                beauty               2350.0  \n49996       debit card                gadget               2600.0  \n49997         e-wallet                gadget               2600.0  \n49998      credit card                beauty               1450.0  \n\n[49999 rows x 12 columns]\n"
     ]
    }
   ]
  },
  {
   "source": [
    "### Tugas Praktek"
   ],
   "cell_type": "markdown",
   "metadata": {}
  },
  {
   "cell_type": "code",
   "execution_count": 8,
   "metadata": {},
   "outputs": [
    {
     "output_type": "stream",
     "name": "stdout",
     "text": [
      "payment_type\ncredit card        2.600706e+06\ndebit card         2.611974e+06\ne-wallet           2.598562e+06\nvirtual account    2.619786e+06\nName: price, dtype: float64\n"
     ]
    }
   ],
   "source": [
    "import pandas as pd\n",
    "order_df = pd.read_csv(\"https://dqlab-dataset.s3-ap-southeast-1.amazonaws.com/order.csv\")\n",
    "# Hitung rata rata dari price per payment_type\n",
    "rata_rata = order_df[\"price\"].groupby(order_df[\"payment_type\"]).mean()\n",
    "print(rata_rata)"
   ]
  },
  {
   "source": [
    "### Tugas Praktek"
   ],
   "cell_type": "markdown",
   "metadata": {}
  },
  {
   "source": [
    "import pandas as pd\n",
    "order_df = pd.read_csv(\"order.csv\")\n",
    "# Hitung harga maksimum pembelian customer\n",
    "sort_harga = order_df.sort_values(by=\"customer\", ascending=False)\n",
    "print(sort_harga)"
   ],
   "cell_type": "code",
   "metadata": {},
   "execution_count": null,
   "outputs": []
  },
  {
   "source": [
    "## Mini Project"
   ],
   "cell_type": "markdown",
   "metadata": {}
  },
  {
   "source": [
    "### Tugas dari Andra"
   ],
   "cell_type": "markdown",
   "metadata": {}
  },
  {
   "cell_type": "code",
   "execution_count": 17,
   "metadata": {},
   "outputs": [
    {
     "output_type": "stream",
     "name": "stdout",
     "text": [
      "payment_type\ncredit card        2587500\ndebit card         2621500\ne-wallet           2589000\nvirtual account    2643000\nName: price, dtype: int64\n                               order_id  quantity  \\\n23829  7d63cb1d349e7bd0ee1edcc61ea71077         1   \n12011  00c9f7d4b0e87781465e562dc109f6aa         1   \n10984  69013d19f8db4cd7dc9f3b5c2564a96f         1   \n29722  f32c4d2b078bc5a354f4c1184522b5ff         1   \n15259  c8eab0ccabe8cdfc2afce66c1c554ae2         1   \n...                                 ...       ...   \n2891   1d0e8770169496e47622b6cbc0d10bda         1   \n36815  4bff82a994068f564e54b52b08ef4512         2   \n8175   e6b1fa22555c3064f984ebeb8a88de77         1   \n4034   8ac2728285fd4228f35d907768b5288a         4   \n32994  0286e258217733541e80588e29c208c1         1   \n\n                             product_id    price  \\\n23829  75d6b6963340c6063f7f4cfcccfe6a30  1472000   \n12011  1a0d662b65b5ef08796501b064c853af  4543000   \n10984  10d196ec072e2d8382c7ec9c942d7ea8  4137000   \n29722  0f789be671fe3bd93cabfbb4a710f282  4802000   \n15259  800f75019492a0d9ffb2483ae65b59f1  4078000   \n...                                 ...      ...   \n2891   3fc0f58c51fcd02161542e0320c4dbe7  4135000   \n36815  24d8da2d499efba175b1092826b7e390  2879000   \n8175   6fd82d8f842424334fedf31190e54d24  2947000   \n4034   fa94f25a73969e3a25d52706e246dfcc   967000   \n32994  3c4223262d31fa35043380da246fb0fa  3337000   \n\n                              seller_id  shipping_cost  \\\n23829  cc419e0650a3c5ba77189a1882b7556a         200000   \n12011  2e0dba2da448400b1c11d7b4b22f32a4         200000   \n10984  d12c926d74ceff0a90a21184466ce161         200000   \n29722  259f7b5e6e482c230e5bfaa670b6bb8f         200000   \n15259  efcd8d2104f1a05d028af7bad20d974b         200000   \n...                                 ...            ...   \n2891   82e0a475a88cc9595229d8029273f045           9000   \n36815  d12c926d74ceff0a90a21184466ce161           9000   \n8175   6560211a19b47992c3666cc44a7e94c0           9000   \n4034   004c9cd9d87a3c30c522c48c4fc07416           9000   \n32994  cb3dd9ce66268c7a3ca7241ac70ab58c           9000   \n\n                            customer_id order_status purchase_date  \\\n23829  484711e3d14ac75fb874e949b3a28395    delivered    2017-08-14   \n12011  cea80f9af87104810bd7fa9698f69d29    delivered    2017-05-22   \n10984  9cf423929ed7f738fd0a0e88607a79fd    delivered    2017-05-15   \n29722  5a1523d32a6d1b323a05895f5164655d    delivered    2017-09-18   \n15259  2339ab3abbeebe72f2782a01c87a9bc0    delivered    2017-06-14   \n...                                 ...          ...           ...   \n2891   e3cfff24939005d30dd3a046848227d6    delivered    2017-02-22   \n36815  2e998a151ac7a977d4a7e806346e0092    delivered    2017-10-30   \n8175   02d6ca625564571402a933db8fe814f0    delivered    2017-04-21   \n4034   6b5e281c1563241783deb3a2636daa28    delivered    2017-03-08   \n32994  010583f85dd55d32a6db1068f58ca6f1    delivered    2017-10-09   \n\n          payment_type product_category_name  product_weight_gram  \n23829      credit card                gadget                400.0  \n12011         e-wallet                  toys                900.0  \n10984      credit card             utilities                250.0  \n29722      credit card                  toys                450.0  \n15259       debit card                sports                100.0  \n...                ...                   ...                  ...  \n2891        debit card               fashion                900.0  \n36815         e-wallet               fashion                150.0  \n8175   virtual account           electronics                250.0  \n4034   virtual account               fashion               1700.0  \n32994  virtual account             utilities                700.0  \n\n[49999 rows x 12 columns]\nproduct_category_name\nautomotive     2129.559039\nbeauty         2120.088396\nelectronics    2144.751191\nfashion        2246.516901\ngadget         2229.632942\nsports         2251.879909\ntoys           2203.863643\nutilities      2291.029868\nName: product_weight_gram, dtype: float64\nproduct_category_name\nautomotive     3799.884166\nbeauty         3837.474929\nelectronics    3839.271768\nfashion        3858.885213\ngadget         3955.792741\nsports         4032.850044\ntoys           3956.814749\nutilities      4150.509909\nName: product_weight_gram, dtype: float64\n"
     ]
    },
    {
     "output_type": "display_data",
     "data": {
      "text/plain": "<Figure size 288x360 with 1 Axes>",
      "image/svg+xml": "<?xml version=\"1.0\" encoding=\"utf-8\" standalone=\"no\"?>\r\n<!DOCTYPE svg PUBLIC \"-//W3C//DTD SVG 1.1//EN\"\r\n  \"http://www.w3.org/Graphics/SVG/1.1/DTD/svg11.dtd\">\r\n<svg height=\"317.99625pt\" version=\"1.1\" viewBox=\"0 0 276.4125 317.99625\" width=\"276.4125pt\" xmlns=\"http://www.w3.org/2000/svg\" xmlns:xlink=\"http://www.w3.org/1999/xlink\">\r\n <metadata>\r\n  <rdf:RDF xmlns:cc=\"http://creativecommons.org/ns#\" xmlns:dc=\"http://purl.org/dc/elements/1.1/\" xmlns:rdf=\"http://www.w3.org/1999/02/22-rdf-syntax-ns#\">\r\n   <cc:Work>\r\n    <dc:type rdf:resource=\"http://purl.org/dc/dcmitype/StillImage\"/>\r\n    <dc:date>2021-06-07T17:12:38.235288</dc:date>\r\n    <dc:format>image/svg+xml</dc:format>\r\n    <dc:creator>\r\n     <cc:Agent>\r\n      <dc:title>Matplotlib v3.4.1, https://matplotlib.org/</dc:title>\r\n     </cc:Agent>\r\n    </dc:creator>\r\n   </cc:Work>\r\n  </rdf:RDF>\r\n </metadata>\r\n <defs>\r\n  <style type=\"text/css\">*{stroke-linecap:butt;stroke-linejoin:round;}</style>\r\n </defs>\r\n <g id=\"figure_1\">\r\n  <g id=\"patch_1\">\r\n   <path d=\"M 0 317.99625 \r\nL 276.4125 317.99625 \r\nL 276.4125 0 \r\nL 0 0 \r\nz\r\n\" style=\"fill:none;\"/>\r\n  </g>\r\n  <g id=\"axes_1\">\r\n   <g id=\"patch_2\">\r\n    <path d=\"M 46.0125 294.118125 \r\nL 269.2125 294.118125 \r\nL 269.2125 22.318125 \r\nL 46.0125 22.318125 \r\nz\r\n\" style=\"fill:#ffffff;\"/>\r\n   </g>\r\n   <g id=\"patch_3\">\r\n    <path clip-path=\"url(#p52267e92b0)\" d=\"M 56.157955 294.118125 \r\nL 96.739773 294.118125 \r\nL 96.739773 35.260982 \r\nL 56.157955 35.260982 \r\nz\r\n\" style=\"fill:#1f77b4;\"/>\r\n   </g>\r\n   <g id=\"patch_4\">\r\n    <path clip-path=\"url(#p52267e92b0)\" d=\"M 96.739773 294.118125 \r\nL 137.321591 294.118125 \r\nL 137.321591 292.506397 \r\nL 96.739773 292.506397 \r\nz\r\n\" style=\"fill:#1f77b4;\"/>\r\n   </g>\r\n   <g id=\"patch_5\">\r\n    <path clip-path=\"url(#p52267e92b0)\" d=\"M 137.321591 294.118125 \r\nL 177.903409 294.118125 \r\nL 177.903409 293.925135 \r\nL 137.321591 293.925135 \r\nz\r\n\" style=\"fill:#1f77b4;\"/>\r\n   </g>\r\n   <g id=\"patch_6\">\r\n    <path clip-path=\"url(#p52267e92b0)\" d=\"M 177.903409 294.118125 \r\nL 218.485227 294.118125 \r\nL 218.485227 294.03467 \r\nL 177.903409 294.03467 \r\nz\r\n\" style=\"fill:#1f77b4;\"/>\r\n   </g>\r\n   <g id=\"patch_7\">\r\n    <path clip-path=\"url(#p52267e92b0)\" d=\"M 218.485227 294.118125 \r\nL 259.067045 294.118125 \r\nL 259.067045 294.071181 \r\nL 218.485227 294.071181 \r\nz\r\n\" style=\"fill:#1f77b4;\"/>\r\n   </g>\r\n   <g id=\"matplotlib.axis_1\">\r\n    <g id=\"xtick_1\">\r\n     <g id=\"line2d_1\">\r\n      <path clip-path=\"url(#p52267e92b0)\" d=\"M 46.0125 294.118125 \r\nL 46.0125 22.318125 \r\n\" style=\"fill:none;stroke:#b0b0b0;stroke-linecap:square;stroke-width:0.8;\"/>\r\n     </g>\r\n     <g id=\"line2d_2\">\r\n      <defs>\r\n       <path d=\"M 0 0 \r\nL 0 3.5 \r\n\" id=\"m9a8f31900d\" style=\"stroke:#000000;stroke-width:0.8;\"/>\r\n      </defs>\r\n      <g>\r\n       <use style=\"stroke:#000000;stroke-width:0.8;\" x=\"46.0125\" xlink:href=\"#m9a8f31900d\" y=\"294.118125\"/>\r\n      </g>\r\n     </g>\r\n     <g id=\"text_1\">\r\n      <!-- 0 -->\r\n      <g transform=\"translate(42.83125 308.716563)scale(0.1 -0.1)\">\r\n       <defs>\r\n        <path d=\"M 2034 4250 \r\nQ 1547 4250 1301 3770 \r\nQ 1056 3291 1056 2328 \r\nQ 1056 1369 1301 889 \r\nQ 1547 409 2034 409 \r\nQ 2525 409 2770 889 \r\nQ 3016 1369 3016 2328 \r\nQ 3016 3291 2770 3770 \r\nQ 2525 4250 2034 4250 \r\nz\r\nM 2034 4750 \r\nQ 2819 4750 3233 4129 \r\nQ 3647 3509 3647 2328 \r\nQ 3647 1150 3233 529 \r\nQ 2819 -91 2034 -91 \r\nQ 1250 -91 836 529 \r\nQ 422 1150 422 2328 \r\nQ 422 3509 836 4129 \r\nQ 1250 4750 2034 4750 \r\nz\r\n\" id=\"DejaVuSans-30\" transform=\"scale(0.015625)\"/>\r\n       </defs>\r\n       <use xlink:href=\"#DejaVuSans-30\"/>\r\n      </g>\r\n     </g>\r\n    </g>\r\n    <g id=\"xtick_2\">\r\n     <g id=\"line2d_3\">\r\n      <path clip-path=\"url(#p52267e92b0)\" d=\"M 96.739773 294.118125 \r\nL 96.739773 22.318125 \r\n\" style=\"fill:none;stroke:#b0b0b0;stroke-linecap:square;stroke-width:0.8;\"/>\r\n     </g>\r\n     <g id=\"line2d_4\">\r\n      <g>\r\n       <use style=\"stroke:#000000;stroke-width:0.8;\" x=\"96.739773\" xlink:href=\"#m9a8f31900d\" y=\"294.118125\"/>\r\n      </g>\r\n     </g>\r\n     <g id=\"text_2\">\r\n      <!-- 5 -->\r\n      <g transform=\"translate(93.558523 308.716563)scale(0.1 -0.1)\">\r\n       <defs>\r\n        <path d=\"M 691 4666 \r\nL 3169 4666 \r\nL 3169 4134 \r\nL 1269 4134 \r\nL 1269 2991 \r\nQ 1406 3038 1543 3061 \r\nQ 1681 3084 1819 3084 \r\nQ 2600 3084 3056 2656 \r\nQ 3513 2228 3513 1497 \r\nQ 3513 744 3044 326 \r\nQ 2575 -91 1722 -91 \r\nQ 1428 -91 1123 -41 \r\nQ 819 9 494 109 \r\nL 494 744 \r\nQ 775 591 1075 516 \r\nQ 1375 441 1709 441 \r\nQ 2250 441 2565 725 \r\nQ 2881 1009 2881 1497 \r\nQ 2881 1984 2565 2268 \r\nQ 2250 2553 1709 2553 \r\nQ 1456 2553 1204 2497 \r\nQ 953 2441 691 2322 \r\nL 691 4666 \r\nz\r\n\" id=\"DejaVuSans-35\" transform=\"scale(0.015625)\"/>\r\n       </defs>\r\n       <use xlink:href=\"#DejaVuSans-35\"/>\r\n      </g>\r\n     </g>\r\n    </g>\r\n    <g id=\"xtick_3\">\r\n     <g id=\"line2d_5\">\r\n      <path clip-path=\"url(#p52267e92b0)\" d=\"M 147.467045 294.118125 \r\nL 147.467045 22.318125 \r\n\" style=\"fill:none;stroke:#b0b0b0;stroke-linecap:square;stroke-width:0.8;\"/>\r\n     </g>\r\n     <g id=\"line2d_6\">\r\n      <g>\r\n       <use style=\"stroke:#000000;stroke-width:0.8;\" x=\"147.467045\" xlink:href=\"#m9a8f31900d\" y=\"294.118125\"/>\r\n      </g>\r\n     </g>\r\n     <g id=\"text_3\">\r\n      <!-- 10 -->\r\n      <g transform=\"translate(141.104545 308.716563)scale(0.1 -0.1)\">\r\n       <defs>\r\n        <path d=\"M 794 531 \r\nL 1825 531 \r\nL 1825 4091 \r\nL 703 3866 \r\nL 703 4441 \r\nL 1819 4666 \r\nL 2450 4666 \r\nL 2450 531 \r\nL 3481 531 \r\nL 3481 0 \r\nL 794 0 \r\nL 794 531 \r\nz\r\n\" id=\"DejaVuSans-31\" transform=\"scale(0.015625)\"/>\r\n       </defs>\r\n       <use xlink:href=\"#DejaVuSans-31\"/>\r\n       <use x=\"63.623047\" xlink:href=\"#DejaVuSans-30\"/>\r\n      </g>\r\n     </g>\r\n    </g>\r\n    <g id=\"xtick_4\">\r\n     <g id=\"line2d_7\">\r\n      <path clip-path=\"url(#p52267e92b0)\" d=\"M 198.194318 294.118125 \r\nL 198.194318 22.318125 \r\n\" style=\"fill:none;stroke:#b0b0b0;stroke-linecap:square;stroke-width:0.8;\"/>\r\n     </g>\r\n     <g id=\"line2d_8\">\r\n      <g>\r\n       <use style=\"stroke:#000000;stroke-width:0.8;\" x=\"198.194318\" xlink:href=\"#m9a8f31900d\" y=\"294.118125\"/>\r\n      </g>\r\n     </g>\r\n     <g id=\"text_4\">\r\n      <!-- 15 -->\r\n      <g transform=\"translate(191.831818 308.716563)scale(0.1 -0.1)\">\r\n       <use xlink:href=\"#DejaVuSans-31\"/>\r\n       <use x=\"63.623047\" xlink:href=\"#DejaVuSans-35\"/>\r\n      </g>\r\n     </g>\r\n    </g>\r\n    <g id=\"xtick_5\">\r\n     <g id=\"line2d_9\">\r\n      <path clip-path=\"url(#p52267e92b0)\" d=\"M 248.921591 294.118125 \r\nL 248.921591 22.318125 \r\n\" style=\"fill:none;stroke:#b0b0b0;stroke-linecap:square;stroke-width:0.8;\"/>\r\n     </g>\r\n     <g id=\"line2d_10\">\r\n      <g>\r\n       <use style=\"stroke:#000000;stroke-width:0.8;\" x=\"248.921591\" xlink:href=\"#m9a8f31900d\" y=\"294.118125\"/>\r\n      </g>\r\n     </g>\r\n     <g id=\"text_5\">\r\n      <!-- 20 -->\r\n      <g transform=\"translate(242.559091 308.716563)scale(0.1 -0.1)\">\r\n       <defs>\r\n        <path d=\"M 1228 531 \r\nL 3431 531 \r\nL 3431 0 \r\nL 469 0 \r\nL 469 531 \r\nQ 828 903 1448 1529 \r\nQ 2069 2156 2228 2338 \r\nQ 2531 2678 2651 2914 \r\nQ 2772 3150 2772 3378 \r\nQ 2772 3750 2511 3984 \r\nQ 2250 4219 1831 4219 \r\nQ 1534 4219 1204 4116 \r\nQ 875 4013 500 3803 \r\nL 500 4441 \r\nQ 881 4594 1212 4672 \r\nQ 1544 4750 1819 4750 \r\nQ 2544 4750 2975 4387 \r\nQ 3406 4025 3406 3419 \r\nQ 3406 3131 3298 2873 \r\nQ 3191 2616 2906 2266 \r\nQ 2828 2175 2409 1742 \r\nQ 1991 1309 1228 531 \r\nz\r\n\" id=\"DejaVuSans-32\" transform=\"scale(0.015625)\"/>\r\n       </defs>\r\n       <use xlink:href=\"#DejaVuSans-32\"/>\r\n       <use x=\"63.623047\" xlink:href=\"#DejaVuSans-30\"/>\r\n      </g>\r\n     </g>\r\n    </g>\r\n   </g>\r\n   <g id=\"matplotlib.axis_2\">\r\n    <g id=\"ytick_1\">\r\n     <g id=\"line2d_11\">\r\n      <path clip-path=\"url(#p52267e92b0)\" d=\"M 46.0125 294.118125 \r\nL 269.2125 294.118125 \r\n\" style=\"fill:none;stroke:#b0b0b0;stroke-linecap:square;stroke-width:0.8;\"/>\r\n     </g>\r\n     <g id=\"line2d_12\">\r\n      <defs>\r\n       <path d=\"M 0 0 \r\nL -3.5 0 \r\n\" id=\"m7f7f696fe0\" style=\"stroke:#000000;stroke-width:0.8;\"/>\r\n      </defs>\r\n      <g>\r\n       <use style=\"stroke:#000000;stroke-width:0.8;\" x=\"46.0125\" xlink:href=\"#m7f7f696fe0\" y=\"294.118125\"/>\r\n      </g>\r\n     </g>\r\n     <g id=\"text_6\">\r\n      <!-- 0 -->\r\n      <g transform=\"translate(32.65 297.917344)scale(0.1 -0.1)\">\r\n       <use xlink:href=\"#DejaVuSans-30\"/>\r\n      </g>\r\n     </g>\r\n    </g>\r\n    <g id=\"ytick_2\">\r\n     <g id=\"line2d_13\">\r\n      <path clip-path=\"url(#p52267e92b0)\" d=\"M 46.0125 241.95863 \r\nL 269.2125 241.95863 \r\n\" style=\"fill:none;stroke:#b0b0b0;stroke-linecap:square;stroke-width:0.8;\"/>\r\n     </g>\r\n     <g id=\"line2d_14\">\r\n      <g>\r\n       <use style=\"stroke:#000000;stroke-width:0.8;\" x=\"46.0125\" xlink:href=\"#m7f7f696fe0\" y=\"241.95863\"/>\r\n      </g>\r\n     </g>\r\n     <g id=\"text_7\">\r\n      <!-- 10000 -->\r\n      <g transform=\"translate(7.2 245.757849)scale(0.1 -0.1)\">\r\n       <use xlink:href=\"#DejaVuSans-31\"/>\r\n       <use x=\"63.623047\" xlink:href=\"#DejaVuSans-30\"/>\r\n       <use x=\"127.246094\" xlink:href=\"#DejaVuSans-30\"/>\r\n       <use x=\"190.869141\" xlink:href=\"#DejaVuSans-30\"/>\r\n       <use x=\"254.492188\" xlink:href=\"#DejaVuSans-30\"/>\r\n      </g>\r\n     </g>\r\n    </g>\r\n    <g id=\"ytick_3\">\r\n     <g id=\"line2d_15\">\r\n      <path clip-path=\"url(#p52267e92b0)\" d=\"M 46.0125 189.799135 \r\nL 269.2125 189.799135 \r\n\" style=\"fill:none;stroke:#b0b0b0;stroke-linecap:square;stroke-width:0.8;\"/>\r\n     </g>\r\n     <g id=\"line2d_16\">\r\n      <g>\r\n       <use style=\"stroke:#000000;stroke-width:0.8;\" x=\"46.0125\" xlink:href=\"#m7f7f696fe0\" y=\"189.799135\"/>\r\n      </g>\r\n     </g>\r\n     <g id=\"text_8\">\r\n      <!-- 20000 -->\r\n      <g transform=\"translate(7.2 193.598353)scale(0.1 -0.1)\">\r\n       <use xlink:href=\"#DejaVuSans-32\"/>\r\n       <use x=\"63.623047\" xlink:href=\"#DejaVuSans-30\"/>\r\n       <use x=\"127.246094\" xlink:href=\"#DejaVuSans-30\"/>\r\n       <use x=\"190.869141\" xlink:href=\"#DejaVuSans-30\"/>\r\n       <use x=\"254.492188\" xlink:href=\"#DejaVuSans-30\"/>\r\n      </g>\r\n     </g>\r\n    </g>\r\n    <g id=\"ytick_4\">\r\n     <g id=\"line2d_17\">\r\n      <path clip-path=\"url(#p52267e92b0)\" d=\"M 46.0125 137.639639 \r\nL 269.2125 137.639639 \r\n\" style=\"fill:none;stroke:#b0b0b0;stroke-linecap:square;stroke-width:0.8;\"/>\r\n     </g>\r\n     <g id=\"line2d_18\">\r\n      <g>\r\n       <use style=\"stroke:#000000;stroke-width:0.8;\" x=\"46.0125\" xlink:href=\"#m7f7f696fe0\" y=\"137.639639\"/>\r\n      </g>\r\n     </g>\r\n     <g id=\"text_9\">\r\n      <!-- 30000 -->\r\n      <g transform=\"translate(7.2 141.438858)scale(0.1 -0.1)\">\r\n       <defs>\r\n        <path d=\"M 2597 2516 \r\nQ 3050 2419 3304 2112 \r\nQ 3559 1806 3559 1356 \r\nQ 3559 666 3084 287 \r\nQ 2609 -91 1734 -91 \r\nQ 1441 -91 1130 -33 \r\nQ 819 25 488 141 \r\nL 488 750 \r\nQ 750 597 1062 519 \r\nQ 1375 441 1716 441 \r\nQ 2309 441 2620 675 \r\nQ 2931 909 2931 1356 \r\nQ 2931 1769 2642 2001 \r\nQ 2353 2234 1838 2234 \r\nL 1294 2234 \r\nL 1294 2753 \r\nL 1863 2753 \r\nQ 2328 2753 2575 2939 \r\nQ 2822 3125 2822 3475 \r\nQ 2822 3834 2567 4026 \r\nQ 2313 4219 1838 4219 \r\nQ 1578 4219 1281 4162 \r\nQ 984 4106 628 3988 \r\nL 628 4550 \r\nQ 988 4650 1302 4700 \r\nQ 1616 4750 1894 4750 \r\nQ 2613 4750 3031 4423 \r\nQ 3450 4097 3450 3541 \r\nQ 3450 3153 3228 2886 \r\nQ 3006 2619 2597 2516 \r\nz\r\n\" id=\"DejaVuSans-33\" transform=\"scale(0.015625)\"/>\r\n       </defs>\r\n       <use xlink:href=\"#DejaVuSans-33\"/>\r\n       <use x=\"63.623047\" xlink:href=\"#DejaVuSans-30\"/>\r\n       <use x=\"127.246094\" xlink:href=\"#DejaVuSans-30\"/>\r\n       <use x=\"190.869141\" xlink:href=\"#DejaVuSans-30\"/>\r\n       <use x=\"254.492188\" xlink:href=\"#DejaVuSans-30\"/>\r\n      </g>\r\n     </g>\r\n    </g>\r\n    <g id=\"ytick_5\">\r\n     <g id=\"line2d_19\">\r\n      <path clip-path=\"url(#p52267e92b0)\" d=\"M 46.0125 85.480144 \r\nL 269.2125 85.480144 \r\n\" style=\"fill:none;stroke:#b0b0b0;stroke-linecap:square;stroke-width:0.8;\"/>\r\n     </g>\r\n     <g id=\"line2d_20\">\r\n      <g>\r\n       <use style=\"stroke:#000000;stroke-width:0.8;\" x=\"46.0125\" xlink:href=\"#m7f7f696fe0\" y=\"85.480144\"/>\r\n      </g>\r\n     </g>\r\n     <g id=\"text_10\">\r\n      <!-- 40000 -->\r\n      <g transform=\"translate(7.2 89.279363)scale(0.1 -0.1)\">\r\n       <defs>\r\n        <path d=\"M 2419 4116 \r\nL 825 1625 \r\nL 2419 1625 \r\nL 2419 4116 \r\nz\r\nM 2253 4666 \r\nL 3047 4666 \r\nL 3047 1625 \r\nL 3713 1625 \r\nL 3713 1100 \r\nL 3047 1100 \r\nL 3047 0 \r\nL 2419 0 \r\nL 2419 1100 \r\nL 313 1100 \r\nL 313 1709 \r\nL 2253 4666 \r\nz\r\n\" id=\"DejaVuSans-34\" transform=\"scale(0.015625)\"/>\r\n       </defs>\r\n       <use xlink:href=\"#DejaVuSans-34\"/>\r\n       <use x=\"63.623047\" xlink:href=\"#DejaVuSans-30\"/>\r\n       <use x=\"127.246094\" xlink:href=\"#DejaVuSans-30\"/>\r\n       <use x=\"190.869141\" xlink:href=\"#DejaVuSans-30\"/>\r\n       <use x=\"254.492188\" xlink:href=\"#DejaVuSans-30\"/>\r\n      </g>\r\n     </g>\r\n    </g>\r\n    <g id=\"ytick_6\">\r\n     <g id=\"line2d_21\">\r\n      <path clip-path=\"url(#p52267e92b0)\" d=\"M 46.0125 33.320649 \r\nL 269.2125 33.320649 \r\n\" style=\"fill:none;stroke:#b0b0b0;stroke-linecap:square;stroke-width:0.8;\"/>\r\n     </g>\r\n     <g id=\"line2d_22\">\r\n      <g>\r\n       <use style=\"stroke:#000000;stroke-width:0.8;\" x=\"46.0125\" xlink:href=\"#m7f7f696fe0\" y=\"33.320649\"/>\r\n      </g>\r\n     </g>\r\n     <g id=\"text_11\">\r\n      <!-- 50000 -->\r\n      <g transform=\"translate(7.2 37.119868)scale(0.1 -0.1)\">\r\n       <use xlink:href=\"#DejaVuSans-35\"/>\r\n       <use x=\"63.623047\" xlink:href=\"#DejaVuSans-30\"/>\r\n       <use x=\"127.246094\" xlink:href=\"#DejaVuSans-30\"/>\r\n       <use x=\"190.869141\" xlink:href=\"#DejaVuSans-30\"/>\r\n       <use x=\"254.492188\" xlink:href=\"#DejaVuSans-30\"/>\r\n      </g>\r\n     </g>\r\n    </g>\r\n   </g>\r\n   <g id=\"patch_8\">\r\n    <path d=\"M 46.0125 294.118125 \r\nL 46.0125 22.318125 \r\n\" style=\"fill:none;stroke:#000000;stroke-linecap:square;stroke-linejoin:miter;stroke-width:0.8;\"/>\r\n   </g>\r\n   <g id=\"patch_9\">\r\n    <path d=\"M 269.2125 294.118125 \r\nL 269.2125 22.318125 \r\n\" style=\"fill:none;stroke:#000000;stroke-linecap:square;stroke-linejoin:miter;stroke-width:0.8;\"/>\r\n   </g>\r\n   <g id=\"patch_10\">\r\n    <path d=\"M 46.0125 294.118125 \r\nL 269.2125 294.118125 \r\n\" style=\"fill:none;stroke:#000000;stroke-linecap:square;stroke-linejoin:miter;stroke-width:0.8;\"/>\r\n   </g>\r\n   <g id=\"patch_11\">\r\n    <path d=\"M 46.0125 22.318125 \r\nL 269.2125 22.318125 \r\n\" style=\"fill:none;stroke:#000000;stroke-linecap:square;stroke-linejoin:miter;stroke-width:0.8;\"/>\r\n   </g>\r\n   <g id=\"text_12\">\r\n    <!-- quantity -->\r\n    <g transform=\"translate(132.599063 16.318125)scale(0.12 -0.12)\">\r\n     <defs>\r\n      <path d=\"M 947 1747 \r\nQ 947 1113 1208 752 \r\nQ 1469 391 1925 391 \r\nQ 2381 391 2643 752 \r\nQ 2906 1113 2906 1747 \r\nQ 2906 2381 2643 2742 \r\nQ 2381 3103 1925 3103 \r\nQ 1469 3103 1208 2742 \r\nQ 947 2381 947 1747 \r\nz\r\nM 2906 525 \r\nQ 2725 213 2448 61 \r\nQ 2172 -91 1784 -91 \r\nQ 1150 -91 751 415 \r\nQ 353 922 353 1747 \r\nQ 353 2572 751 3078 \r\nQ 1150 3584 1784 3584 \r\nQ 2172 3584 2448 3432 \r\nQ 2725 3281 2906 2969 \r\nL 2906 3500 \r\nL 3481 3500 \r\nL 3481 -1331 \r\nL 2906 -1331 \r\nL 2906 525 \r\nz\r\n\" id=\"DejaVuSans-71\" transform=\"scale(0.015625)\"/>\r\n      <path d=\"M 544 1381 \r\nL 544 3500 \r\nL 1119 3500 \r\nL 1119 1403 \r\nQ 1119 906 1312 657 \r\nQ 1506 409 1894 409 \r\nQ 2359 409 2629 706 \r\nQ 2900 1003 2900 1516 \r\nL 2900 3500 \r\nL 3475 3500 \r\nL 3475 0 \r\nL 2900 0 \r\nL 2900 538 \r\nQ 2691 219 2414 64 \r\nQ 2138 -91 1772 -91 \r\nQ 1169 -91 856 284 \r\nQ 544 659 544 1381 \r\nz\r\nM 1991 3584 \r\nL 1991 3584 \r\nz\r\n\" id=\"DejaVuSans-75\" transform=\"scale(0.015625)\"/>\r\n      <path d=\"M 2194 1759 \r\nQ 1497 1759 1228 1600 \r\nQ 959 1441 959 1056 \r\nQ 959 750 1161 570 \r\nQ 1363 391 1709 391 \r\nQ 2188 391 2477 730 \r\nQ 2766 1069 2766 1631 \r\nL 2766 1759 \r\nL 2194 1759 \r\nz\r\nM 3341 1997 \r\nL 3341 0 \r\nL 2766 0 \r\nL 2766 531 \r\nQ 2569 213 2275 61 \r\nQ 1981 -91 1556 -91 \r\nQ 1019 -91 701 211 \r\nQ 384 513 384 1019 \r\nQ 384 1609 779 1909 \r\nQ 1175 2209 1959 2209 \r\nL 2766 2209 \r\nL 2766 2266 \r\nQ 2766 2663 2505 2880 \r\nQ 2244 3097 1772 3097 \r\nQ 1472 3097 1187 3025 \r\nQ 903 2953 641 2809 \r\nL 641 3341 \r\nQ 956 3463 1253 3523 \r\nQ 1550 3584 1831 3584 \r\nQ 2591 3584 2966 3190 \r\nQ 3341 2797 3341 1997 \r\nz\r\n\" id=\"DejaVuSans-61\" transform=\"scale(0.015625)\"/>\r\n      <path d=\"M 3513 2113 \r\nL 3513 0 \r\nL 2938 0 \r\nL 2938 2094 \r\nQ 2938 2591 2744 2837 \r\nQ 2550 3084 2163 3084 \r\nQ 1697 3084 1428 2787 \r\nQ 1159 2491 1159 1978 \r\nL 1159 0 \r\nL 581 0 \r\nL 581 3500 \r\nL 1159 3500 \r\nL 1159 2956 \r\nQ 1366 3272 1645 3428 \r\nQ 1925 3584 2291 3584 \r\nQ 2894 3584 3203 3211 \r\nQ 3513 2838 3513 2113 \r\nz\r\n\" id=\"DejaVuSans-6e\" transform=\"scale(0.015625)\"/>\r\n      <path d=\"M 1172 4494 \r\nL 1172 3500 \r\nL 2356 3500 \r\nL 2356 3053 \r\nL 1172 3053 \r\nL 1172 1153 \r\nQ 1172 725 1289 603 \r\nQ 1406 481 1766 481 \r\nL 2356 481 \r\nL 2356 0 \r\nL 1766 0 \r\nQ 1100 0 847 248 \r\nQ 594 497 594 1153 \r\nL 594 3053 \r\nL 172 3053 \r\nL 172 3500 \r\nL 594 3500 \r\nL 594 4494 \r\nL 1172 4494 \r\nz\r\n\" id=\"DejaVuSans-74\" transform=\"scale(0.015625)\"/>\r\n      <path d=\"M 603 3500 \r\nL 1178 3500 \r\nL 1178 0 \r\nL 603 0 \r\nL 603 3500 \r\nz\r\nM 603 4863 \r\nL 1178 4863 \r\nL 1178 4134 \r\nL 603 4134 \r\nL 603 4863 \r\nz\r\n\" id=\"DejaVuSans-69\" transform=\"scale(0.015625)\"/>\r\n      <path d=\"M 2059 -325 \r\nQ 1816 -950 1584 -1140 \r\nQ 1353 -1331 966 -1331 \r\nL 506 -1331 \r\nL 506 -850 \r\nL 844 -850 \r\nQ 1081 -850 1212 -737 \r\nQ 1344 -625 1503 -206 \r\nL 1606 56 \r\nL 191 3500 \r\nL 800 3500 \r\nL 1894 763 \r\nL 2988 3500 \r\nL 3597 3500 \r\nL 2059 -325 \r\nz\r\n\" id=\"DejaVuSans-79\" transform=\"scale(0.015625)\"/>\r\n     </defs>\r\n     <use xlink:href=\"#DejaVuSans-71\"/>\r\n     <use x=\"63.476562\" xlink:href=\"#DejaVuSans-75\"/>\r\n     <use x=\"126.855469\" xlink:href=\"#DejaVuSans-61\"/>\r\n     <use x=\"188.134766\" xlink:href=\"#DejaVuSans-6e\"/>\r\n     <use x=\"251.513672\" xlink:href=\"#DejaVuSans-74\"/>\r\n     <use x=\"290.722656\" xlink:href=\"#DejaVuSans-69\"/>\r\n     <use x=\"318.505859\" xlink:href=\"#DejaVuSans-74\"/>\r\n     <use x=\"357.714844\" xlink:href=\"#DejaVuSans-79\"/>\r\n    </g>\r\n   </g>\r\n  </g>\r\n </g>\r\n <defs>\r\n  <clipPath id=\"p52267e92b0\">\r\n   <rect height=\"271.8\" width=\"223.2\" x=\"46.0125\" y=\"22.318125\"/>\r\n  </clipPath>\r\n </defs>\r\n</svg>\r\n",
      "image/png": "[encoded data removed]"
     },
     "metadata": {
      "needs_background": "light"
     }
    }
   ],
   "source": [
    "import pandas as pd\n",
    "import matplotlib.pyplot as plt\n",
    "order_df = pd.read_csv(\"order.csv\")\n",
    "# Median price yang dibayar customer dari masing-masing metode pembayaran.\n",
    "median_price = order_df[\"price\"].groupby(order_df[\"payment_type\"]).median()\n",
    "print(median_price)\n",
    "# Ubah freight_value menjadi shipping_cost dan cari shipping_cost\n",
    "# termahal dari data penjualan tersebut menggunakan sort.\n",
    "order_df.rename(columns={\"freight_value\": \"shipping_cost\"}, inplace=True)\n",
    "sort_value = order_df.sort_values(by=\"shipping_cost\", ascending=0)\n",
    "print(sort_value)\n",
    "# Untuk product_category_name, berapa rata-rata weight produk tersebut\n",
    "# dan standar deviasi mana yang terkecil dari weight tersebut,\n",
    "mean_value = order_df[\"product_weight_gram\"].groupby(order_df[\"product_category_name\"]).mean()\n",
    "print(mean_value)\n",
    "std_value = order_df[\"product_weight_gram\"].groupby(order_df[\"product_category_name\"]).std()\n",
    "print(std_value)\n",
    "# Buat histogram quantity penjualan dari dataset tersebutuntuk melihat persebaran quantity\n",
    "# penjualan tersebut dengan bins = 5 dan figsize= (4,5)\n",
    "order_df[[\"quantity\"]].hist(figsize=(4, 5), bins=5)\n",
    "plt.show()"
   ]
  },
  {
   "cell_type": "code",
   "execution_count": null,
   "metadata": {},
   "outputs": [],
   "source": []
  }
 ]
}