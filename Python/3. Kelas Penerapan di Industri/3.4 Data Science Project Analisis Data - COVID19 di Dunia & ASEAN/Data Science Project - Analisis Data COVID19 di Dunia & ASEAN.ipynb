{
 "metadata": {
  "language_info": {
   "codemirror_mode": {
    "name": "ipython",
    "version": 3
   },
   "file_extension": ".py",
   "mimetype": "text/x-python",
   "name": "python",
   "nbconvert_exporter": "python",
   "pygments_lexer": "ipython3",
   "version": "3.9.4"
  },
  "orig_nbformat": 2,
  "kernelspec": {
   "name": "python394jvsc74a57bd0b839018028d7c5166b93bdc4222a30f5462b9cb20ffe1b3af6c70f0ea8ead087",
   "display_name": "Python 3.9.4 64-bit"
  }
 },
 "nbformat": 4,
 "nbformat_minor": 2,
 "cells": [
  {
   "source": [
    "# Data Science Project: Analisis Data COVID19 di Dunia & ASEAN"
   ],
   "cell_type": "markdown",
   "metadata": {}
  },
  {
   "source": [
    "## Pendahuluan"
   ],
   "cell_type": "markdown",
   "metadata": {}
  },
  {
   "source": [
    "### Library yang dibutuhkan"
   ],
   "cell_type": "markdown",
   "metadata": {}
  },
  {
   "cell_type": "code",
   "execution_count": null,
   "metadata": {},
   "outputs": [],
   "source": [
    "import json\n",
    "import numpy as np\n",
    "import pandas as pd\n",
    "import requests"
   ]
  },
  {
   "source": [
    "## Mengakses Data Covid-19 Dari https://covid19-api.org"
   ],
   "cell_type": "markdown",
   "metadata": {}
  },
  {
   "source": [
    "### Membuat Fungsi get API"
   ],
   "cell_type": "markdown",
   "metadata": {}
  },
  {
   "cell_type": "code",
   "execution_count": null,
   "metadata": {},
   "outputs": [],
   "source": [
    "def get_json(api_url):\n",
    "\tresponse = requests.get(api_url)\n",
    "\tif response.status_code == 200:\n",
    "\t\treturn json.loads(response.content.decode('utf-8'))\n",
    "\telse:\n",
    "\t\treturn None"
   ]
  },
  {
   "source": [
    "### Memanggil API Covid19"
   ],
   "cell_type": "markdown",
   "metadata": {}
  },
  {
   "source": [
    "record_date = '2020-08-17'\n",
    "covid_url = 'https://covid19-api.org/api/status?date='+record_date\n",
    "df_covid_worldwide = pd.io.json.json_normalize(get_json(covid_url))\n",
    "\n",
    "print(df_covid_worldwide.head())"
   ],
   "cell_type": "code",
   "metadata": {},
   "execution_count": null,
   "outputs": []
  },
  {
   "source": [
    "### Merubah Format date"
   ],
   "cell_type": "markdown",
   "metadata": {}
  },
  {
   "cell_type": "code",
   "execution_count": null,
   "metadata": {},
   "outputs": [],
   "source": [
    "df_covid_worldwide['last_update'] = pd.to_datetime(df_covid_worldwide['last_update'], format= '%Y-%m-%d %H:%M:%S')\n",
    "df_covid_worldwide['last_update'] = df_covid_worldwide['last_update'].apply(lambda x: x.date())"
   ]
  },
  {
   "source": [
    "### Mengambil Data Countries"
   ],
   "cell_type": "markdown",
   "metadata": {}
  },
  {
   "cell_type": "code",
   "execution_count": null,
   "metadata": {},
   "outputs": [],
   "source": [
    "countries_url = 'https://covid19-api.org/api/countries'\n",
    "df_countries = pd.io.json.json_normalize(get_json(countries_url))\n",
    "df_countries = df_countries.rename(columns={'alpha2': 'country'})[['name','country']]\n",
    "\n",
    "print(df_countries.head())"
   ]
  },
  {
   "source": [
    "## Kasus Covid-19 di Dunia dan Negara Mana yang Tertinggi"
   ],
   "cell_type": "markdown",
   "metadata": {}
  },
  {
   "source": [
    "### Merge Covid19 Data dan Countries"
   ],
   "cell_type": "markdown",
   "metadata": {}
  },
  {
   "cell_type": "code",
   "execution_count": null,
   "metadata": {},
   "outputs": [],
   "source": [
    "df_covid_denormalized = pd.merge (df_covid_worldwide, df_countries, on='country')\n",
    "\n",
    "print(df_covid_denormalized.head())"
   ]
  },
  {
   "source": [
    "### Menghitung Fatality Ratio"
   ],
   "cell_type": "markdown",
   "metadata": {}
  },
  {
   "cell_type": "code",
   "execution_count": null,
   "metadata": {},
   "outputs": [],
   "source": [
    "df_top_20_fatality_rate = df_covid_denormalized.sort_values(by='fatality_ratio', ascending=False).head(20)"
   ]
  },
  {
   "source": [
    "### Negara-negara dengan Fatality Ratio Tertinggi"
   ],
   "cell_type": "markdown",
   "metadata": {}
  },
  {
   "cell_type": "code",
   "execution_count": null,
   "metadata": {},
   "outputs": [],
   "source": [
    "df_top_20_fatality_rate = df_covid_denormalized.sort_values(by='fatality_ratio', ascending=False).head(20)"
   ]
  },
  {
   "source": [
    "### Import Library Visualisasi"
   ],
   "cell_type": "markdown",
   "metadata": {}
  },
  {
   "cell_type": "code",
   "execution_count": null,
   "metadata": {},
   "outputs": [],
   "source": [
    "import matplotlib.pyplot as plt"
   ]
  },
  {
   "source": [
    "### Visualisasi Negara dengan Fatality Ratio Tertinggi"
   ],
   "cell_type": "markdown",
   "metadata": {}
  },
  {
   "cell_type": "code",
   "execution_count": null,
   "metadata": {},
   "outputs": [],
   "source": [
    "import matplotlib.pyplot as plt\n",
    "plt.figure(figsize=(20, 8))\n",
    "x = df_top_20_fatality_rate['name']\n",
    "y = df_top_20_fatality_rate['fatality_ratio']\n",
    "plt.bar(x,y)\n",
    "plt.xlabel('Country Name')\n",
    "plt.ylabel('Fatality Rate')\n",
    "plt.title('Top 20 Highest Fatality Rate Countries')\n",
    "plt.xticks(rotation=90)\n",
    "plt.tight_layout()\n",
    "plt.show()"
   ]
  },
  {
   "source": [
    "## Kasus Covid-19 di ASEAN"
   ],
   "cell_type": "markdown",
   "metadata": {}
  },
  {
   "source": [
    "### Menggabungkan Dataframe"
   ],
   "cell_type": "markdown",
   "metadata": {}
  },
  {
   "cell_type": "code",
   "execution_count": null,
   "metadata": {},
   "outputs": [],
   "source": [
    "countries = ['ID','MY','SG','TH','VN']\n",
    "i = 0\n",
    "for country in countries:\n",
    "\tcovid_timeline_url = 'https://covid19-api.org/api/timeline/'+country\n",
    "\tdf_covid_timeline = pd.io.json.json_normalize(get_json(covid_timeline_url))\n",
    "\tdf_covid_timeline['last_update'] = pd.to_datetime(df_covid_timeline['last_update'], format='%Y-%m-%dT%H:%M:%S')\n",
    "\tdf_covid_timeline['last_update'] = df_covid_timeline['last_update'].apply(lambda x: x.date())\n",
    "\tif i==0:\n",
    "\t\tdf_covid_timeline_merged = df_covid_timeline\n",
    "\telse:\n",
    "\t\tdf_covid_timeline_merged = df_covid_timeline.append(df_covid_timeline_merged, ignore_index=True)\n",
    "\ti=i+1\n",
    "\n",
    "print(df_covid_timeline_merged.head())"
   ]
  },
  {
   "source": [
    "### Merge Data Covid19 Dengan Data Country"
   ],
   "cell_type": "markdown",
   "metadata": {}
  },
  {
   "cell_type": "code",
   "execution_count": null,
   "metadata": {},
   "outputs": [],
   "source": [
    "df_covid_timeline_denormalized = pd.merge(df_covid_timeline_merged , df_countries , on='country')"
   ]
  },
  {
   "source": [
    "### Kasus Covid-19 di ASEAN pada Bulan Maret 2020"
   ],
   "cell_type": "markdown",
   "metadata": {}
  },
  {
   "cell_type": "code",
   "execution_count": null,
   "metadata": {},
   "outputs": [],
   "source": [
    "import datetime\n",
    "df_covid_timeline_denormalized = df_covid_timeline_denormalized[(df_covid_timeline_denormalized['last_update'] >= datetime.date(2020, 3, 1))]"
   ]
  },
  {
   "source": [
    "### Visualisasi Kasus Covid-19 di ASEAN"
   ],
   "cell_type": "markdown",
   "metadata": {}
  },
  {
   "cell_type": "code",
   "execution_count": null,
   "metadata": {},
   "outputs": [],
   "source": [
    "import matplotlib.pyplot as plt\n",
    "plt.clf()\n",
    "countries = ['ID','MY','SG','TH','VN']\n",
    "for country in countries:\n",
    "\tcountry_data = df_covid_timeline_denormalized['country']==country\n",
    "\tx = df_covid_timeline_denormalized[country_data]['last_update'] \n",
    "\ty = df_covid_timeline_denormalized[country_data]['cases']\n",
    "\tplt.plot(x, y, label = country)\n",
    "\n",
    "plt.legend()\n",
    "plt.xlabel('Record Date')\n",
    "plt.ylabel('Total Cases')\n",
    "plt.title('Asean Covid19 Cases Comparison')\n",
    "plt.show()"
   ]
  },
  {
   "cell_type": "code",
   "execution_count": null,
   "metadata": {},
   "outputs": [],
   "source": []
  }
 ]
}